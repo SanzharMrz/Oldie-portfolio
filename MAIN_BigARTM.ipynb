{
 "cells": [
  {
   "cell_type": "markdown",
   "metadata": {},
   "source": [
    "### Стартуем"
   ]
  },
  {
   "cell_type": "markdown",
   "metadata": {},
   "source": [
    "#### Импортируем BigARTM:"
   ]
  },
  {
   "cell_type": "code",
   "execution_count": 2,
   "metadata": {},
   "outputs": [],
   "source": [
    "from matplotlib import pyplot as plt\n",
    "%matplotlib inline\n",
    "import artm\n",
    "import pandas as pd\n",
    "from nltk.corpus import wordnet\n",
    "from nltk.corpus import stopwords\n",
    "from nltk.stem.wordnet import WordNetLemmatizer\n",
    "from tqdm import tqdm\n",
    "import nltk\n",
    "import re\n",
    "import numpy as np"
   ]
  },
  {
   "cell_type": "markdown",
   "metadata": {},
   "source": [
    "### Загружаем наш датасет"
   ]
  },
  {
   "cell_type": "code",
   "execution_count": 2,
   "metadata": {},
   "outputs": [],
   "source": [
    "df = pd.read_csv('final_dataset.csv')\n",
    "df = df.dropna()\n",
    "abstracts_list = df.Abstract.tolist()"
   ]
  },
  {
   "cell_type": "code",
   "execution_count": 220,
   "metadata": {},
   "outputs": [
    {
     "data": {
      "text/html": [
       "<div>\n",
       "<style scoped>\n",
       "    .dataframe tbody tr th:only-of-type {\n",
       "        vertical-align: middle;\n",
       "    }\n",
       "\n",
       "    .dataframe tbody tr th {\n",
       "        vertical-align: top;\n",
       "    }\n",
       "\n",
       "    .dataframe thead th {\n",
       "        text-align: right;\n",
       "    }\n",
       "</style>\n",
       "<table border=\"1\" class=\"dataframe\">\n",
       "  <thead>\n",
       "    <tr style=\"text-align: right;\">\n",
       "      <th></th>\n",
       "      <th>Abstract</th>\n",
       "      <th>Author</th>\n",
       "      <th>Date</th>\n",
       "      <th>Journal</th>\n",
       "      <th>Title</th>\n",
       "    </tr>\n",
       "  </thead>\n",
       "  <tbody>\n",
       "    <tr>\n",
       "      <th>0</th>\n",
       "      <td>Recurrent neural networks (RNNs) have been wid...</td>\n",
       "      <td>Yong Yu</td>\n",
       "      <td>2019-06-14</td>\n",
       "      <td>Neural Computation</td>\n",
       "      <td>A Review of Recurrent Neural Networks: LSTM Ce...</td>\n",
       "    </tr>\n",
       "    <tr>\n",
       "      <th>1</th>\n",
       "      <td>Epilepsy is a neurological disorder characteri...</td>\n",
       "      <td>Anup Das</td>\n",
       "      <td>2019-06-14</td>\n",
       "      <td>Neural Computation</td>\n",
       "      <td>Characterizing Brain Connectivity From Human E...</td>\n",
       "    </tr>\n",
       "    <tr>\n",
       "      <th>2</th>\n",
       "      <td>This letter proposes a novel method, multi-inp...</td>\n",
       "      <td>Kunling Geng</td>\n",
       "      <td>2019-06-14</td>\n",
       "      <td>Neural Computation</td>\n",
       "      <td>Multi-Input, Multi-Output Neuronal Mode Networ...</td>\n",
       "    </tr>\n",
       "    <tr>\n",
       "      <th>3</th>\n",
       "      <td>With the development of neural recording techn...</td>\n",
       "      <td>G. Sun</td>\n",
       "      <td>2019-06-14</td>\n",
       "      <td>Neural Computation</td>\n",
       "      <td>Effective Dimensionality Reduction for Visuali...</td>\n",
       "    </tr>\n",
       "    <tr>\n",
       "      <th>4</th>\n",
       "      <td>The thalamus has traditionally been considered...</td>\n",
       "      <td>Nima Dehghani</td>\n",
       "      <td>2019-06-14</td>\n",
       "      <td>Neural Computation</td>\n",
       "      <td>A Computational Perspective of the Role of the...</td>\n",
       "    </tr>\n",
       "  </tbody>\n",
       "</table>\n",
       "</div>"
      ],
      "text/plain": [
       "                                            Abstract         Author  \\\n",
       "0  Recurrent neural networks (RNNs) have been wid...        Yong Yu   \n",
       "1  Epilepsy is a neurological disorder characteri...       Anup Das   \n",
       "2  This letter proposes a novel method, multi-inp...   Kunling Geng   \n",
       "3  With the development of neural recording techn...         G. Sun   \n",
       "4  The thalamus has traditionally been considered...  Nima Dehghani   \n",
       "\n",
       "         Date             Journal  \\\n",
       "0  2019-06-14  Neural Computation   \n",
       "1  2019-06-14  Neural Computation   \n",
       "2  2019-06-14  Neural Computation   \n",
       "3  2019-06-14  Neural Computation   \n",
       "4  2019-06-14  Neural Computation   \n",
       "\n",
       "                                               Title  \n",
       "0  A Review of Recurrent Neural Networks: LSTM Ce...  \n",
       "1  Characterizing Brain Connectivity From Human E...  \n",
       "2  Multi-Input, Multi-Output Neuronal Mode Networ...  \n",
       "3  Effective Dimensionality Reduction for Visuali...  \n",
       "4  A Computational Perspective of the Role of the...  "
      ]
     },
     "execution_count": 220,
     "metadata": {},
     "output_type": "execute_result"
    }
   ],
   "source": [
    "df.head()"
   ]
  },
  {
   "cell_type": "code",
   "execution_count": 57,
   "metadata": {},
   "outputs": [
    {
     "name": "stdout",
     "output_type": "stream",
     "text": [
      "<class 'pandas.core.frame.DataFrame'>\n",
      "Int64Index: 5262 entries, 0 to 5642\n",
      "Data columns (total 5 columns):\n",
      "Abstract    5262 non-null object\n",
      "Author      5262 non-null object\n",
      "Date        5262 non-null object\n",
      "Journal     5262 non-null object\n",
      "Title       5262 non-null object\n",
      "dtypes: object(5)\n",
      "memory usage: 246.7+ KB\n"
     ]
    }
   ],
   "source": [
    "df.info()"
   ]
  },
  {
   "cell_type": "markdown",
   "metadata": {},
   "source": [
    "###   В первую очередь нужно лемматизировать и преобразовать все данные в vowpal-wabbit. Это формат с которым работает модель"
   ]
  },
  {
   "cell_type": "code",
   "execution_count": 3,
   "metadata": {},
   "outputs": [],
   "source": [
    "stop_words = stopwords.words('english') # получим словарь стоп-слов\n",
    "\n",
    "lemmatizer=WordNetLemmatizer() #лемматизатор из WOrdNet\n",
    "\n",
    "def get_wordnet_pos(word):\n",
    "    \"\"\"Map POS tag to first character lemmatize() accepts\"\"\"\n",
    "    tag = nltk.pos_tag([word])[0][1][0].upper()\n",
    "    tag_dict = {\"J\": wordnet.ADJ,\n",
    "                \"N\": wordnet.NOUN,\n",
    "                \"V\": wordnet.VERB,\n",
    "                \"R\": wordnet.ADV}\n",
    "    return tag_dict.get(tag, wordnet.NOUN)\n",
    "\n",
    "def lemmatizer_func(sentence):\n",
    "    sentence=sentence.replace(',','').replace('.','').replace(')','').replace('(','').replace(':','')\n",
    "    sentence=sentence.replace(';','').replace('-','')\n",
    "    return [lemmatizer.lemmatize(w, get_wordnet_pos(w)) for w in nltk.word_tokenize(sentence)]\n",
    "\n",
    "def stop_words_remover(sentence): # удаляет стоп слова\n",
    "    return [word for word in sentence if word not in stop_words]\n",
    "\n",
    "def return_cleaned_array(array): # комбинирует наши веhхние функции выдает очищенный массив\n",
    "    array1 = []\n",
    "    for i in tqdm(array):\n",
    "        lemma=lemmatizer_func(i)\n",
    "        Lemma = [word.lower() for word  in lemma]\n",
    "        array1.append(stop_words_remover(Lemma))\n",
    "    #*********************************************\n",
    "    array2 = []\n",
    "    for i in tqdm(array1):\n",
    "        array2.append(str(i).replace(']','').replace('[','').replace(\"'\",'').replace(',',''))\n",
    "    #*********************************************\n",
    "    #import re    \n",
    "    regex = re.compile('[^a-zA-Z]')\n",
    "    final_array = []\n",
    "    for i in tqdm(array2):    \n",
    "        final_array.append(regex.sub(' ', i))\n",
    "    return final_array\n",
    "\n",
    "def txt_writer(data,filename): #ЗАПИСЫВАЕТ НАШИ МАССИВЫ В TXT FILE\n",
    "    #saving collection in txt file\n",
    "    outF = open(filename, \"w\")\n",
    "    for i in tqdm(data):\n",
    "      # write line to output file\n",
    "          outF.write(str(i))\n",
    "          outF.write(\"\\n\")\n",
    "    outF.close()"
   ]
  },
  {
   "cell_type": "markdown",
   "metadata": {},
   "source": [
    "#### Применим эти функции"
   ]
  },
  {
   "cell_type": "code",
   "execution_count": 271,
   "metadata": {},
   "outputs": [
    {
     "name": "stderr",
     "output_type": "stream",
     "text": [
      "100%|██████████| 5262/5262 [00:09<00:00, 531.02it/s]\n",
      "100%|██████████| 5262/5262 [00:00<00:00, 225542.16it/s]\n",
      "100%|██████████| 5262/5262 [00:00<00:00, 255764.47it/s]\n"
     ]
    }
   ],
   "source": [
    "title = return_cleaned_array(df.Title.values)"
   ]
  },
  {
   "cell_type": "code",
   "execution_count": 273,
   "metadata": {},
   "outputs": [
    {
     "name": "stderr",
     "output_type": "stream",
     "text": [
      "100%|██████████| 5262/5262 [00:04<00:00, 1134.63it/s]\n",
      "100%|██████████| 5262/5262 [00:00<00:00, 300863.28it/s]\n",
      "100%|██████████| 5262/5262 [00:00<00:00, 249228.48it/s]\n"
     ]
    }
   ],
   "source": [
    "author = return_cleaned_array(df.Author.values)"
   ]
  },
  {
   "cell_type": "code",
   "execution_count": 274,
   "metadata": {
    "scrolled": true
   },
   "outputs": [
    {
     "name": "stderr",
     "output_type": "stream",
     "text": [
      "100%|██████████| 5262/5262 [00:03<00:00, 1441.53it/s]\n",
      "100%|██████████| 5262/5262 [00:00<00:00, 191230.00it/s]\n",
      "100%|██████████| 5262/5262 [00:00<00:00, 414771.90it/s]\n"
     ]
    }
   ],
   "source": [
    "journal = return_cleaned_array(df.Journal.values)"
   ]
  },
  {
   "cell_type": "code",
   "execution_count": 275,
   "metadata": {},
   "outputs": [
    {
     "name": "stderr",
     "output_type": "stream",
     "text": [
      "100%|██████████| 5262/5262 [02:22<00:00, 37.00it/s]\n",
      "100%|██████████| 5262/5262 [00:00<00:00, 33981.27it/s]\n",
      "100%|██████████| 5262/5262 [00:00<00:00, 27449.82it/s]\n"
     ]
    }
   ],
   "source": [
    "text = return_cleaned_array(df.Abstract.values)"
   ]
  },
  {
   "cell_type": "code",
   "execution_count": 278,
   "metadata": {},
   "outputs": [],
   "source": [
    "date = df.Date.values"
   ]
  },
  {
   "cell_type": "markdown",
   "metadata": {},
   "source": [
    "#### Так выглядят данные после обработки"
   ]
  },
  {
   "cell_type": "code",
   "execution_count": 279,
   "metadata": {},
   "outputs": [
    {
     "data": {
      "text/plain": [
       "('recurrent neural network rnns widely adopt research area concerned sequential data text audio video however rnns consist sigma cell tanh cell unable learn relevant information input data input gap large introduce gate function cell structure long shortterm memory lstm could handle problem longterm dependency well since introduction almost excite result base rnns achieve lstm lstm become focus deep learn review lstm cell variant explore learn capacity lstm cell furthermore lstm network divide two broad category lstmdominated network integrate lstm network addition various application discuss finally future research direction present lstm network',\n",
       " 'yong yu',\n",
       " 'neural computation',\n",
       " 'review recurrent neural networks lstm cells network architectures',\n",
       " '2019-06-14')"
      ]
     },
     "execution_count": 279,
     "metadata": {},
     "output_type": "execute_result"
    }
   ],
   "source": [
    "text[0], author[0], journal[0], title[0], date[0]"
   ]
  },
  {
   "cell_type": "markdown",
   "metadata": {},
   "source": [
    "#### Получим списки формата vowpal wabbit"
   ]
  },
  {
   "cell_type": "code",
   "execution_count": 286,
   "metadata": {},
   "outputs": [],
   "source": [
    "#data vowpal wabbit format with doc/{1,2,...} + modality\n",
    "array_with_modality = []\n",
    "j=0\n",
    "for q,w,e,r,t in zip(text, title, author, date, journal):\n",
    "    array_with_modality.append(f'doc_{j}'+' '\n",
    "                               '|text'+' '+q+' '+\n",
    "                               '|title'+' '+w+' '+\n",
    "                               '|author'+' '+e+' '+\n",
    "                               '|date'+' '+r+' '+\n",
    "                               '|journal'+' '+t)\n",
    "    j+=1"
   ]
  },
  {
   "cell_type": "code",
   "execution_count": null,
   "metadata": {},
   "outputs": [],
   "source": [
    "for i in text:    \n",
    "    final_vw_data.append(f'doc_{j}' + ' ' +'|text'+ ' ' + i)\n",
    "    j+=1"
   ]
  },
  {
   "cell_type": "code",
   "execution_count": 16,
   "metadata": {},
   "outputs": [],
   "source": [
    "#deleting digits\n",
    "#final_abstract = list(map(lambda x: \" \".join(x for x in str(x).split() if not x.isdigit()),final_abstract))"
   ]
  },
  {
   "cell_type": "markdown",
   "metadata": {},
   "source": [
    "#### Получаем в итоге документы в следующем виде(один корпус просто текст, второй с модальностями)"
   ]
  },
  {
   "cell_type": "code",
   "execution_count": 287,
   "metadata": {
    "scrolled": true
   },
   "outputs": [
    {
     "data": {
      "text/plain": [
       "('doc_0 |text recurrent neural network rnns widely adopt research area concerned sequential data text audio video however rnns consist sigma cell tanh cell unable learn relevant information input data input gap large introduce gate function cell structure long shortterm memory lstm could handle problem longterm dependency well since introduction almost excite result base rnns achieve lstm lstm become focus deep learn review lstm cell variant explore learn capacity lstm cell furthermore lstm network divide two broad category lstmdominated network integrate lstm network addition various application discuss finally future research direction present lstm network',\n",
       " 'doc_0 |text recurrent neural network rnns widely adopt research area concerned sequential data text audio video however rnns consist sigma cell tanh cell unable learn relevant information input data input gap large introduce gate function cell structure long shortterm memory lstm could handle problem longterm dependency well since introduction almost excite result base rnns achieve lstm lstm become focus deep learn review lstm cell variant explore learn capacity lstm cell furthermore lstm network divide two broad category lstmdominated network integrate lstm network addition various application discuss finally future research direction present lstm network |title review recurrent neural networks lstm cells network architectures |author yong yu |date 2019-06-14 |journal neural computation')"
      ]
     },
     "execution_count": 287,
     "metadata": {},
     "output_type": "execute_result"
    }
   ],
   "source": [
    "final_vw_data[0], array_with_modality[0]"
   ]
  },
  {
   "cell_type": "markdown",
   "metadata": {},
   "source": [
    "### Запишем наши данные в файл чтобы не перезапукать ячейки много раз"
   ]
  },
  {
   "cell_type": "code",
   "execution_count": 291,
   "metadata": {},
   "outputs": [
    {
     "name": "stderr",
     "output_type": "stream",
     "text": [
      "100%|██████████| 5262/5262 [00:00<00:00, 181746.84it/s]\n"
     ]
    }
   ],
   "source": [
    "txt_writer(data=array_with_modality, filename=\"array_with_modality.txt\")"
   ]
  },
  {
   "cell_type": "code",
   "execution_count": null,
   "metadata": {},
   "outputs": [],
   "source": [
    "txt_writer(data=final_vw_data,filename=\"final_vw_data.txt\")"
   ]
  },
  {
   "cell_type": "markdown",
   "metadata": {},
   "source": [
    "#### В этой ячейке создается словарь всех уникальных слов из нашего корпуса, необходимо для того чтобы рассчитывать сoherence, с помощью утилиты(бинарника) bigartm, можно получить так называемый словарь со-взаимности. Output: файлы cooc_tf_, cooc_df_, ppmi_tf_, ppmi_df_ − файлы со-встречаемостей и посчитанные по ним PPMI, результат работы алгоритма.Подробнее https://nbviewer.jupyter.org/github/bigartm/bigartm-book/blob/master/junk/cooc_dictionary/example_of_gathering.ipynb"
   ]
  },
  {
   "cell_type": "code",
   "execution_count": 161,
   "metadata": {},
   "outputs": [],
   "source": [
    "#creating array with dictionary of unique words from collection \n",
    "arr1=[]\n",
    "for element in final_abstract:    \n",
    "    arr1.append(regex.sub(' ', element))\n",
    "arr2=[]\n",
    "for element in arr1:\n",
    "    doc = element.split(' ')\n",
    "    for word in doc:\n",
    "        arr2.append(word + ' ' + 'text')\n",
    "slvr  = list(set(arr2))\n",
    "# сразу запишем в txt\n",
    "txt_writer(slvr)"
   ]
  },
  {
   "cell_type": "markdown",
   "metadata": {},
   "source": [
    "### Считывание данных, преобразуем в формат c которым работает модель batch_vectorizer"
   ]
  },
  {
   "cell_type": "code",
   "execution_count": 195,
   "metadata": {},
   "outputs": [],
   "source": [
    "batch_vectorizer = artm.BatchVectorizer(data_path=\"final_vw_data.txt\", data_format=\"vowpal_wabbit\",\n",
    "                                        target_folder=\"final_vw_data\")"
   ]
  },
  {
   "cell_type": "code",
   "execution_count": 2,
   "metadata": {},
   "outputs": [],
   "source": [
    "batch_vectorizer = artm.BatchVectorizer(data_path='final_vw_data',\n",
    "                                        data_format='batches')"
   ]
  },
  {
   "cell_type": "markdown",
   "metadata": {},
   "source": [
    "#### Создаем словарь, чтобы в дальнейшем инициализировать модель с его помощью"
   ]
  },
  {
   "cell_type": "code",
   "execution_count": 3,
   "metadata": {},
   "outputs": [],
   "source": [
    "dictionary = artm.Dictionary()\n",
    "dictionary.gather(batch_vectorizer.data_path)"
   ]
  },
  {
   "cell_type": "markdown",
   "metadata": {},
   "source": [
    "#### Создадим словарь со-встречаемостей"
   ]
  },
  {
   "cell_type": "code",
   "execution_count": 21,
   "metadata": {},
   "outputs": [],
   "source": [
    "cooc_dict = artm.Dictionary()\n",
    "cooc_dict.gather(\n",
    "    data_path='final_vw_data',\n",
    "    cooc_file_path='cooc_tf_.txt',\n",
    "    vocab_file_path='slvr.txt',\n",
    "    symmetric_cooc_values=False)"
   ]
  },
  {
   "cell_type": "markdown",
   "metadata": {},
   "source": [
    "#### Проверим как меняются различные метрики от количества топиков"
   ]
  },
  {
   "cell_type": "code",
   "execution_count": 64,
   "metadata": {},
   "outputs": [
    {
     "name": "stderr",
     "output_type": "stream",
     "text": [
      "100%|██████████| 14/14 [01:15<00:00,  6.31s/it]\n"
     ]
    }
   ],
   "source": [
    "purity_list = []\n",
    "contrast_list = []\n",
    "num_topics_list = []\n",
    "perplexity_list = []\n",
    "\n",
    "for i in tqdm(range(2,30,2)):\n",
    "    #creating topic names and coherence score\n",
    "    #creating model\n",
    "    model_artm = artm.ARTM(num_topics=i, \n",
    "                       class_ids={\"text\":1},\n",
    "                       reuse_theta=True, cache_theta=True, seed=-1)\n",
    "    #initializing model\n",
    "    model_artm.initialize(dictionary)\n",
    "    #adding score to the model\n",
    "    model_artm.scores.add(artm.PerplexityScore(name='PerplexityScore'))\n",
    "    model_artm.scores.add(artm.TopicKernelScore(name='TopicKernelScore',class_id = 'text',\n",
    "                                                  probability_mass_threshold=0.3))\n",
    "    \n",
    "    #fit model                      \n",
    "    model_artm.fit_offline(batch_vectorizer=batch_vectorizer, num_collection_passes=10)\n",
    "    #scores to list             \n",
    "    num_topics_list.append(i)\n",
    "    purity_list.append(np.mean(model_artm.score_tracker['TopicKernelScore'].last_average_purity))\n",
    "    contrast_list.append(np.mean(model_artm.score_tracker['TopicKernelScore'].last_average_contrast))\n",
    "    perplexity_list.append(model_artm.score_tracker['PerplexityScore'].last_value)"
   ]
  },
  {
   "cell_type": "code",
   "execution_count": 75,
   "metadata": {},
   "outputs": [
    {
     "data": {
      "text/plain": [
       "Text(0, 0.5, 'Purity')"
      ]
     },
     "execution_count": 75,
     "metadata": {},
     "output_type": "execute_result"
    },
    {
     "data": {
      "image/png": "[encoded data removed]",
      "text/plain": [
       "<Figure size 432x288 with 1 Axes>"
      ]
     },
     "metadata": {
      "needs_background": "light"
     },
     "output_type": "display_data"
    }
   ],
   "source": [
    "plt.plot(num_topics_list,purity_list)\n",
    "plt.xlabel(\"num_topics\")\n",
    "plt.ylabel(\"Purity\")"
   ]
  },
  {
   "cell_type": "code",
   "execution_count": 76,
   "metadata": {},
   "outputs": [
    {
     "data": {
      "text/plain": [
       "Text(0, 0.5, 'Contrast')"
      ]
     },
     "execution_count": 76,
     "metadata": {},
     "output_type": "execute_result"
    },
    {
     "data": {
      "image/png": "[encoded data removed]",
      "text/plain": [
       "<Figure size 432x288 with 1 Axes>"
      ]
     },
     "metadata": {
      "needs_background": "light"
     },
     "output_type": "display_data"
    }
   ],
   "source": [
    "plt.plot(num_topics_list,contrast_list)\n",
    "plt.xlabel(\"num_topics\")\n",
    "plt.ylabel(\"Contrast\")"
   ]
  },
  {
   "cell_type": "code",
   "execution_count": 67,
   "metadata": {},
   "outputs": [
    {
     "data": {
      "text/plain": [
       "Text(0, 0.5, 'num_topics')"
      ]
     },
     "execution_count": 67,
     "metadata": {},
     "output_type": "execute_result"
    },
    {
     "data": {
      "image/png": "[encoded data removed]",
      "text/plain": [
       "<Figure size 432x288 with 1 Axes>"
      ]
     },
     "metadata": {
      "needs_background": "light"
     },
     "output_type": "display_data"
    }
   ],
   "source": [
    "plt.plot(num_topics_list,perplexity_list)\n",
    "plt.xlabel(\"PerpleXity\")\n",
    "plt.ylabel(\"num_topics\")"
   ]
  },
  {
   "cell_type": "markdown",
   "metadata": {},
   "source": [
    "### Создадим модель и инициализируем с помощью словаря"
   ]
  },
  {
   "cell_type": "code",
   "execution_count": 68,
   "metadata": {},
   "outputs": [],
   "source": [
    "num_topics = 4\n",
    "#from documentation\n",
    "model_artm = artm.ARTM(num_topics=num_topics, \n",
    "                       class_ids={\"text\":1},\n",
    "                       reuse_theta=True, cache_theta=True, seed=-1)"
   ]
  },
  {
   "cell_type": "code",
   "execution_count": 69,
   "metadata": {},
   "outputs": [],
   "source": [
    "model_artm.initialize(dictionary)"
   ]
  },
  {
   "cell_type": "markdown",
   "metadata": {},
   "source": [
    "#### В данной ячейке представлены все регулизаторы и метрики"
   ]
  },
  {
   "cell_type": "code",
   "execution_count": 70,
   "metadata": {},
   "outputs": [],
   "source": [
    "model_artm.scores.add(artm.PerplexityScore(name='PerplexityScore',class_ids={'text':1}))\n",
    "model_artm.scores.add(artm.SparsityPhiScore(name='SparsityPhiScore', class_id='text'))\n",
    "model_artm.scores.add(artm.SparsityThetaScore(name='SparsityThetaScore'))\n",
    "model_artm.scores.add(artm.TopicKernelScore(name='TopicKernelScore',class_id='text',\n",
    "                                                  probability_mass_threshold=0.3))\n",
    "model_artm.scores.add(artm.TopTokensScore(name='TopTokensScore',class_id='text', num_tokens=10))\n",
    "#model_artm.scores.add(artm.TopTokensScore(\n",
    "#                            name='TopTokensCoherenceScore',\n",
    "#                            class_id='text',\n",
    "#                            num_tokens=10,\n",
    "#                            dictionary=cooc_dict))\n",
    "#model_artm.regularizers.add(artm.SmoothSparseThetaRegularizer(name='SparseTheta',tau=-0.15))\n",
    "#model_artm.regularizers.add(artm.SmoothSparsePhiRegularizer(name='SparsePhi', tau=-0.1))\n",
    "\n",
    "#model_artm.regularizers.add(artm.DecorrelatorPhiRegularizer(name='DecorrelatorPhi', tau=1.5e+5))"
   ]
  },
  {
   "cell_type": "markdown",
   "metadata": {},
   "source": [
    "#### Строим модель. Offline - проходит по всей коллекции много раз. Удобно, когда коллекция маленькая."
   ]
  },
  {
   "cell_type": "code",
   "execution_count": 51,
   "metadata": {},
   "outputs": [],
   "source": [
    "model_artm.fit_offline(batch_vectorizer=batch_vectorizer, num_collection_passes=15)"
   ]
  },
  {
   "cell_type": "markdown",
   "metadata": {},
   "source": [
    "#### Необходимое число итераций можно отслеживать по графику перплексии. Когда она перестала меняться, модель сошлась.\n"
   ]
  },
  {
   "cell_type": "code",
   "execution_count": 41,
   "metadata": {},
   "outputs": [
    {
     "data": {
      "text/plain": [
       "[<matplotlib.lines.Line2D at 0x7f16c3d22f28>]"
      ]
     },
     "execution_count": 41,
     "metadata": {},
     "output_type": "execute_result"
    },
    {
     "data": {
      "image/png": "[encoded data removed]",
      "text/plain": [
       "<Figure size 432x288 with 1 Axes>"
      ]
     },
     "metadata": {
      "needs_background": "light"
     },
     "output_type": "display_data"
    }
   ],
   "source": [
    "plt.plot(model_artm.score_tracker[\"PerplexityScore\"].value)"
   ]
  },
  {
   "cell_type": "markdown",
   "metadata": {},
   "source": [
    "#### Выведем наши топики и значения различных scores"
   ]
  },
  {
   "cell_type": "code",
   "execution_count": 42,
   "metadata": {
    "scrolled": true
   },
   "outputs": [
    {
     "name": "stdout",
     "output_type": "stream",
     "text": [
      "topic_0: \n",
      "['model', 'algorithm', 'use', 'method', 'data', 'speech', 'propose', 'learn', 'show', 'approach']\n",
      "topic_1: \n",
      "['network', 'neural', 'learn', 'model', 'use', 'show', 'system', 'input', 'representation', 'function']\n",
      "topic_2: \n",
      "['model', 'neuron', 'spike', 'input', 'synaptic', 'time', 'fire', 'show', 'activity', 'network']\n",
      "topic_3: \n",
      "['language', 'model', 'system', 'word', 'use', 'approach', 'corpus', 'task', 'paper', 'information']\n"
     ]
    }
   ],
   "source": [
    "for topic_name in model_artm.topic_names:\n",
    "    print (topic_name + ': ',)\n",
    "    print (model_artm.score_tracker['TopTokensScore'].last_tokens[topic_name])"
   ]
  },
  {
   "cell_type": "code",
   "execution_count": 27,
   "metadata": {},
   "outputs": [],
   "source": [
    "def scores():\n",
    "    print (\"SparsityPhiScore : \",model_artm.score_tracker[\"SparsityPhiScore\"].last_value)\n",
    "    print()\n",
    "    print (\"SparsityThetaScore : \",model_artm.score_tracker[\"SparsityThetaScore\"].last_value)\n",
    "    print()\n",
    "    print (\"PerplexityScore : \",model_artm.score_tracker[\"PerplexityScore\"].last_value)\n",
    "    print()\n",
    "    print (\"Size : \",np.mean(model_artm.score_tracker[\"TopicKernelScore\"].average_size))\n",
    "    print()\n",
    "    print (\"Coherence : \",np.mean(model_artm.score_tracker[\"TopicKernelScore\"].average_coherence))\n",
    "    print()\n",
    "    print (\"Purity : \",np.mean(model_artm.score_tracker[\"TopicKernelScore\"].average_purity))\n",
    "    print()\n",
    "    print (\"Contrast : \",np.mean(model_artm.score_tracker[\"TopicKernelScore\"].average_contrast))\n",
    "    #print (model_artm.score_tracker['TopTokensCoherenceScore'].average_coherence)"
   ]
  },
  {
   "cell_type": "code",
   "execution_count": 43,
   "metadata": {},
   "outputs": [
    {
     "name": "stdout",
     "output_type": "stream",
     "text": [
      "SparsityPhiScore :  0.4424726963043213\n",
      "\n",
      "SparsityThetaScore :  0.24040289223194122\n",
      "\n",
      "PerplexityScore :  1557.5989990234375\n",
      "\n",
      "Size :  6505.866666666667\n",
      "\n",
      "Coherence :  0.0\n",
      "\n",
      "Purity :  0.6418361226717632\n",
      "\n",
      "Contrast :  0.7344791670640309\n"
     ]
    }
   ],
   "source": [
    "scores()"
   ]
  },
  {
   "cell_type": "markdown",
   "metadata": {},
   "source": [
    "#### В темах много общеупотребительных слов (так называемой, фоновой лексики). Чтобы этого избежать, будем использовать разреживающий регуляризатор для матрицы фи. Он будет подавлять слова, которые имеют большую частоту во всей коллекции. Выставим tau = -100."
   ]
  },
  {
   "cell_type": "code",
   "execution_count": 71,
   "metadata": {},
   "outputs": [],
   "source": [
    "model_artm.regularizers.add(artm.SmoothSparsePhiRegularizer(name='SparsePhi', tau=-50))\n",
    "#model_artm.regularizers.add(artm.SmoothSparseThetaRegularizer(name = 'SparseTheta',tau=-1))\n",
    "model_artm.regularizers.add(artm.DecorrelatorPhiRegularizer(name = 'DecorellatorPhi', tau = 2.5e+5),overwrite=True)"
   ]
  },
  {
   "cell_type": "markdown",
   "metadata": {},
   "source": [
    "#### Cнова построим модель"
   ]
  },
  {
   "cell_type": "code",
   "execution_count": 72,
   "metadata": {},
   "outputs": [],
   "source": [
    "model_artm.fit_offline(batch_vectorizer=batch_vectorizer, num_collection_passes=15)"
   ]
  },
  {
   "cell_type": "code",
   "execution_count": 73,
   "metadata": {},
   "outputs": [
    {
     "name": "stdout",
     "output_type": "stream",
     "text": [
      "topic_0: \n",
      "['use', 'method', 'data', 'algorithm', 'propose', 'speech', 'learn', 'approach', 'feature', 'base']\n",
      "topic_1: \n",
      "['network', 'neural', 'problem', 'pattern', 'representation', 'activity', 'stimulus', 'property', 'distribution', 'cell']\n",
      "topic_2: \n",
      "['model', 'neuron', 'show', 'present', 'spike', 'time', 'two', 'one', 'result', 'study']\n",
      "topic_3: \n",
      "['system', 'word', 'information', 'task', 'paper', 'corpus', 'machine', 'type', 'translation', 'source']\n"
     ]
    }
   ],
   "source": [
    "for topic_name in model_artm.topic_names:\n",
    "    print (topic_name + ': ',)\n",
    "    print (model_artm.score_tracker['TopTokensScore'].last_tokens[topic_name])"
   ]
  },
  {
   "cell_type": "code",
   "execution_count": 63,
   "metadata": {},
   "outputs": [
    {
     "name": "stdout",
     "output_type": "stream",
     "text": [
      "SparsityPhiScore :  0.5962420701980591\n",
      "\n",
      "SparsityThetaScore :  0.4521569609642029\n",
      "\n",
      "PerplexityScore :  1540.482666015625\n",
      "\n",
      "Size :  6241.175\n",
      "\n",
      "Coherence :  0.0\n",
      "\n",
      "Purity :  0.6647658109664917\n",
      "\n",
      "Contrast :  0.8042361602187157\n"
     ]
    }
   ],
   "source": [
    "scores()"
   ]
  },
  {
   "cell_type": "markdown",
   "metadata": {},
   "source": [
    "#### Обратите внимание, что разреживать модель рекомендуется только после того, как она сошлась без регуляризации."
   ]
  },
  {
   "cell_type": "code",
   "execution_count": 32,
   "metadata": {},
   "outputs": [
    {
     "name": "stdout",
     "output_type": "stream",
     "text": [
      "SparsityPhiScore :  0.9916490912437439\n",
      "\n",
      "SparsityThetaScore :  0.29475483298301697\n",
      "\n",
      "PerplexityScore :  193.8665771484375\n",
      "\n",
      "Size :  3338.241666666667\n",
      "\n",
      "Coherence :  0.0\n",
      "\n",
      "Purity :  0.7659539600213369\n",
      "\n",
      "Contrast :  0.8016258905331294\n"
     ]
    }
   ],
   "source": [
    "scores()"
   ]
  },
  {
   "cell_type": "markdown",
   "metadata": {},
   "source": [
    "#### Матрица фи"
   ]
  },
  {
   "cell_type": "code",
   "execution_count": 78,
   "metadata": {},
   "outputs": [
    {
     "data": {
      "text/html": [
       "<div>\n",
       "<style scoped>\n",
       "    .dataframe tbody tr th:only-of-type {\n",
       "        vertical-align: middle;\n",
       "    }\n",
       "\n",
       "    .dataframe tbody tr th {\n",
       "        vertical-align: top;\n",
       "    }\n",
       "\n",
       "    .dataframe thead th {\n",
       "        text-align: right;\n",
       "    }\n",
       "</style>\n",
       "<table border=\"1\" class=\"dataframe\">\n",
       "  <thead>\n",
       "    <tr style=\"text-align: right;\">\n",
       "      <th></th>\n",
       "      <th>topic_0</th>\n",
       "      <th>topic_1</th>\n",
       "      <th>topic_2</th>\n",
       "      <th>topic_3</th>\n",
       "    </tr>\n",
       "  </thead>\n",
       "  <tbody>\n",
       "    <tr>\n",
       "      <th>(text, rescoren)</th>\n",
       "      <td>0.0</td>\n",
       "      <td>0.0</td>\n",
       "      <td>0.0</td>\n",
       "      <td>0.0</td>\n",
       "    </tr>\n",
       "    <tr>\n",
       "      <th>(text, beltd)</th>\n",
       "      <td>0.0</td>\n",
       "      <td>0.0</td>\n",
       "      <td>0.0</td>\n",
       "      <td>0.0</td>\n",
       "    </tr>\n",
       "    <tr>\n",
       "      <th>(text, intensities)</th>\n",
       "      <td>0.0</td>\n",
       "      <td>0.0</td>\n",
       "      <td>0.0</td>\n",
       "      <td>0.0</td>\n",
       "    </tr>\n",
       "    <tr>\n",
       "      <th>(text, nave)</th>\n",
       "      <td>0.0</td>\n",
       "      <td>0.0</td>\n",
       "      <td>0.0</td>\n",
       "      <td>0.0</td>\n",
       "    </tr>\n",
       "    <tr>\n",
       "      <th>(text, closedcaptions)</th>\n",
       "      <td>0.0</td>\n",
       "      <td>0.0</td>\n",
       "      <td>0.0</td>\n",
       "      <td>0.0</td>\n",
       "    </tr>\n",
       "    <tr>\n",
       "      <th>(text, distributes)</th>\n",
       "      <td>0.0</td>\n",
       "      <td>0.0</td>\n",
       "      <td>0.0</td>\n",
       "      <td>0.0</td>\n",
       "    </tr>\n",
       "    <tr>\n",
       "      <th>(text, jupiter)</th>\n",
       "      <td>0.0</td>\n",
       "      <td>0.0</td>\n",
       "      <td>0.0</td>\n",
       "      <td>0.0</td>\n",
       "    </tr>\n",
       "    <tr>\n",
       "      <th>(text, mmietrained)</th>\n",
       "      <td>0.0</td>\n",
       "      <td>0.0</td>\n",
       "      <td>0.0</td>\n",
       "      <td>0.0</td>\n",
       "    </tr>\n",
       "    <tr>\n",
       "      <th>(text, mletrained)</th>\n",
       "      <td>0.0</td>\n",
       "      <td>0.0</td>\n",
       "      <td>0.0</td>\n",
       "      <td>0.0</td>\n",
       "    </tr>\n",
       "    <tr>\n",
       "      <th>(text, mmiebased)</th>\n",
       "      <td>0.0</td>\n",
       "      <td>0.0</td>\n",
       "      <td>0.0</td>\n",
       "      <td>0.0</td>\n",
       "    </tr>\n",
       "    <tr>\n",
       "      <th>(text, quinphone)</th>\n",
       "      <td>0.0</td>\n",
       "      <td>0.0</td>\n",
       "      <td>0.0</td>\n",
       "      <td>0.0</td>\n",
       "    </tr>\n",
       "    <tr>\n",
       "      <th>(text, mmie)</th>\n",
       "      <td>0.0</td>\n",
       "      <td>0.0</td>\n",
       "      <td>0.0</td>\n",
       "      <td>0.0</td>\n",
       "    </tr>\n",
       "    <tr>\n",
       "      <th>(text, maplr)</th>\n",
       "      <td>0.0</td>\n",
       "      <td>0.0</td>\n",
       "      <td>0.0</td>\n",
       "      <td>0.0</td>\n",
       "    </tr>\n",
       "    <tr>\n",
       "      <th>(text, withinword)</th>\n",
       "      <td>0.0</td>\n",
       "      <td>0.0</td>\n",
       "      <td>0.0</td>\n",
       "      <td>0.0</td>\n",
       "    </tr>\n",
       "    <tr>\n",
       "      <th>(text, recognizeralthough)</th>\n",
       "      <td>0.0</td>\n",
       "      <td>0.0</td>\n",
       "      <td>0.0</td>\n",
       "      <td>0.0</td>\n",
       "    </tr>\n",
       "    <tr>\n",
       "      <th>(text, singlepass)</th>\n",
       "      <td>0.0</td>\n",
       "      <td>0.0</td>\n",
       "      <td>0.0</td>\n",
       "      <td>0.0</td>\n",
       "    </tr>\n",
       "    <tr>\n",
       "      <th>(text, thehmm)</th>\n",
       "      <td>0.0</td>\n",
       "      <td>0.0</td>\n",
       "      <td>0.0</td>\n",
       "      <td>0.0</td>\n",
       "    </tr>\n",
       "    <tr>\n",
       "      <th>(text, distanttalking)</th>\n",
       "      <td>0.0</td>\n",
       "      <td>0.0</td>\n",
       "      <td>0.0</td>\n",
       "      <td>0.0</td>\n",
       "    </tr>\n",
       "    <tr>\n",
       "      <th>(text, hthe)</th>\n",
       "      <td>0.0</td>\n",
       "      <td>0.0</td>\n",
       "      <td>0.0</td>\n",
       "      <td>0.0</td>\n",
       "    </tr>\n",
       "    <tr>\n",
       "      <th>(text, restricteddomain)</th>\n",
       "      <td>0.0</td>\n",
       "      <td>0.0</td>\n",
       "      <td>0.0</td>\n",
       "      <td>0.0</td>\n",
       "    </tr>\n",
       "    <tr>\n",
       "      <th>(text, utmost)</th>\n",
       "      <td>0.0</td>\n",
       "      <td>0.0</td>\n",
       "      <td>0.0</td>\n",
       "      <td>0.0</td>\n",
       "    </tr>\n",
       "    <tr>\n",
       "      <th>(text, counterproductive)</th>\n",
       "      <td>0.0</td>\n",
       "      <td>0.0</td>\n",
       "      <td>0.0</td>\n",
       "      <td>0.0</td>\n",
       "    </tr>\n",
       "    <tr>\n",
       "      <th>(text, pcma)</th>\n",
       "      <td>0.0</td>\n",
       "      <td>0.0</td>\n",
       "      <td>0.0</td>\n",
       "      <td>0.0</td>\n",
       "    </tr>\n",
       "    <tr>\n",
       "      <th>(text, phonologicallyconstrained)</th>\n",
       "      <td>0.0</td>\n",
       "      <td>0.0</td>\n",
       "      <td>0.0</td>\n",
       "      <td>0.0</td>\n",
       "    </tr>\n",
       "    <tr>\n",
       "      <th>(text, wording)</th>\n",
       "      <td>0.0</td>\n",
       "      <td>0.0</td>\n",
       "      <td>0.0</td>\n",
       "      <td>0.0</td>\n",
       "    </tr>\n",
       "    <tr>\n",
       "      <th>(text, humanranked)</th>\n",
       "      <td>0.0</td>\n",
       "      <td>0.0</td>\n",
       "      <td>0.0</td>\n",
       "      <td>0.0</td>\n",
       "    </tr>\n",
       "    <tr>\n",
       "      <th>(text, markedup)</th>\n",
       "      <td>0.0</td>\n",
       "      <td>0.0</td>\n",
       "      <td>0.0</td>\n",
       "      <td>0.0</td>\n",
       "    </tr>\n",
       "    <tr>\n",
       "      <th>(text, baptist)</th>\n",
       "      <td>0.0</td>\n",
       "      <td>0.0</td>\n",
       "      <td>0.0</td>\n",
       "      <td>0.0</td>\n",
       "    </tr>\n",
       "    <tr>\n",
       "      <th>(text, wellintegrated)</th>\n",
       "      <td>0.0</td>\n",
       "      <td>0.0</td>\n",
       "      <td>0.0</td>\n",
       "      <td>0.0</td>\n",
       "    </tr>\n",
       "    <tr>\n",
       "      <th>(text, lau)</th>\n",
       "      <td>0.0</td>\n",
       "      <td>0.0</td>\n",
       "      <td>0.0</td>\n",
       "      <td>0.0</td>\n",
       "    </tr>\n",
       "    <tr>\n",
       "      <th>...</th>\n",
       "      <td>...</td>\n",
       "      <td>...</td>\n",
       "      <td>...</td>\n",
       "      <td>...</td>\n",
       "    </tr>\n",
       "    <tr>\n",
       "      <th>(text, prowl)</th>\n",
       "      <td>0.0</td>\n",
       "      <td>0.0</td>\n",
       "      <td>0.0</td>\n",
       "      <td>0.0</td>\n",
       "    </tr>\n",
       "    <tr>\n",
       "      <th>(text, bagging)</th>\n",
       "      <td>0.0</td>\n",
       "      <td>0.0</td>\n",
       "      <td>0.0</td>\n",
       "      <td>0.0</td>\n",
       "    </tr>\n",
       "    <tr>\n",
       "      <th>(text, table)</th>\n",
       "      <td>0.0</td>\n",
       "      <td>0.0</td>\n",
       "      <td>0.0</td>\n",
       "      <td>0.0</td>\n",
       "    </tr>\n",
       "    <tr>\n",
       "      <th>(text, leg)</th>\n",
       "      <td>0.0</td>\n",
       "      <td>0.0</td>\n",
       "      <td>0.0</td>\n",
       "      <td>0.0</td>\n",
       "    </tr>\n",
       "    <tr>\n",
       "      <th>(text, excitatoryinhibitory)</th>\n",
       "      <td>0.0</td>\n",
       "      <td>0.0</td>\n",
       "      <td>0.0</td>\n",
       "      <td>0.0</td>\n",
       "    </tr>\n",
       "    <tr>\n",
       "      <th>(text, fixedsize)</th>\n",
       "      <td>0.0</td>\n",
       "      <td>0.0</td>\n",
       "      <td>0.0</td>\n",
       "      <td>0.0</td>\n",
       "    </tr>\n",
       "    <tr>\n",
       "      <th>(text, beast)</th>\n",
       "      <td>0.0</td>\n",
       "      <td>0.0</td>\n",
       "      <td>0.0</td>\n",
       "      <td>0.0</td>\n",
       "    </tr>\n",
       "    <tr>\n",
       "      <th>(text, splendor)</th>\n",
       "      <td>0.0</td>\n",
       "      <td>0.0</td>\n",
       "      <td>0.0</td>\n",
       "      <td>0.0</td>\n",
       "    </tr>\n",
       "    <tr>\n",
       "      <th>(text, laserrange)</th>\n",
       "      <td>0.0</td>\n",
       "      <td>0.0</td>\n",
       "      <td>0.0</td>\n",
       "      <td>0.0</td>\n",
       "    </tr>\n",
       "    <tr>\n",
       "      <th>(text, discriminatively)</th>\n",
       "      <td>0.0</td>\n",
       "      <td>0.0</td>\n",
       "      <td>0.0</td>\n",
       "      <td>0.0</td>\n",
       "    </tr>\n",
       "    <tr>\n",
       "      <th>(text, decent)</th>\n",
       "      <td>0.0</td>\n",
       "      <td>0.0</td>\n",
       "      <td>0.0</td>\n",
       "      <td>0.0</td>\n",
       "    </tr>\n",
       "    <tr>\n",
       "      <th>(text, vestibulooculomotor)</th>\n",
       "      <td>0.0</td>\n",
       "      <td>0.0</td>\n",
       "      <td>0.0</td>\n",
       "      <td>0.0</td>\n",
       "    </tr>\n",
       "    <tr>\n",
       "      <th>(text, deafferented)</th>\n",
       "      <td>0.0</td>\n",
       "      <td>0.0</td>\n",
       "      <td>0.0</td>\n",
       "      <td>0.0</td>\n",
       "    </tr>\n",
       "    <tr>\n",
       "      <th>(text, finerscale)</th>\n",
       "      <td>0.0</td>\n",
       "      <td>0.0</td>\n",
       "      <td>0.0</td>\n",
       "      <td>0.0</td>\n",
       "    </tr>\n",
       "    <tr>\n",
       "      <th>(text, demonstrably)</th>\n",
       "      <td>0.0</td>\n",
       "      <td>0.0</td>\n",
       "      <td>0.0</td>\n",
       "      <td>0.0</td>\n",
       "    </tr>\n",
       "    <tr>\n",
       "      <th>(text, sensorymotor)</th>\n",
       "      <td>0.0</td>\n",
       "      <td>0.0</td>\n",
       "      <td>0.0</td>\n",
       "      <td>0.0</td>\n",
       "    </tr>\n",
       "    <tr>\n",
       "      <th>(text, nsuch)</th>\n",
       "      <td>0.0</td>\n",
       "      <td>0.0</td>\n",
       "      <td>0.0</td>\n",
       "      <td>0.0</td>\n",
       "    </tr>\n",
       "    <tr>\n",
       "      <th>(text, difficulttodiscriminate)</th>\n",
       "      <td>0.0</td>\n",
       "      <td>0.0</td>\n",
       "      <td>0.0</td>\n",
       "      <td>0.0</td>\n",
       "    </tr>\n",
       "    <tr>\n",
       "      <th>(text, wb)</th>\n",
       "      <td>0.0</td>\n",
       "      <td>0.0</td>\n",
       "      <td>0.0</td>\n",
       "      <td>0.0</td>\n",
       "    </tr>\n",
       "    <tr>\n",
       "      <th>(text, autocovariance)</th>\n",
       "      <td>0.0</td>\n",
       "      <td>0.0</td>\n",
       "      <td>0.0</td>\n",
       "      <td>0.0</td>\n",
       "    </tr>\n",
       "    <tr>\n",
       "      <th>(text, uboost)</th>\n",
       "      <td>0.0</td>\n",
       "      <td>0.0</td>\n",
       "      <td>0.0</td>\n",
       "      <td>0.0</td>\n",
       "    </tr>\n",
       "    <tr>\n",
       "      <th>(text, timecoding)</th>\n",
       "      <td>0.0</td>\n",
       "      <td>0.0</td>\n",
       "      <td>0.0</td>\n",
       "      <td>0.0</td>\n",
       "    </tr>\n",
       "    <tr>\n",
       "      <th>(text, learningdependent)</th>\n",
       "      <td>0.0</td>\n",
       "      <td>0.0</td>\n",
       "      <td>0.0</td>\n",
       "      <td>0.0</td>\n",
       "    </tr>\n",
       "    <tr>\n",
       "      <th>(text, azimuth)</th>\n",
       "      <td>0.0</td>\n",
       "      <td>0.0</td>\n",
       "      <td>0.0</td>\n",
       "      <td>0.0</td>\n",
       "    </tr>\n",
       "    <tr>\n",
       "      <th>(text, parasitic)</th>\n",
       "      <td>0.0</td>\n",
       "      <td>0.0</td>\n",
       "      <td>0.0</td>\n",
       "      <td>0.0</td>\n",
       "    </tr>\n",
       "    <tr>\n",
       "      <th>(text, popov)</th>\n",
       "      <td>0.0</td>\n",
       "      <td>0.0</td>\n",
       "      <td>0.0</td>\n",
       "      <td>0.0</td>\n",
       "    </tr>\n",
       "    <tr>\n",
       "      <th>(text, fx)</th>\n",
       "      <td>0.0</td>\n",
       "      <td>0.0</td>\n",
       "      <td>0.0</td>\n",
       "      <td>0.0</td>\n",
       "    </tr>\n",
       "    <tr>\n",
       "      <th>(text, desoer)</th>\n",
       "      <td>0.0</td>\n",
       "      <td>0.0</td>\n",
       "      <td>0.0</td>\n",
       "      <td>0.0</td>\n",
       "    </tr>\n",
       "    <tr>\n",
       "      <th>(text, row)</th>\n",
       "      <td>0.0</td>\n",
       "      <td>0.0</td>\n",
       "      <td>0.0</td>\n",
       "      <td>0.0</td>\n",
       "    </tr>\n",
       "    <tr>\n",
       "      <th>(text, vidya)</th>\n",
       "      <td>0.0</td>\n",
       "      <td>0.0</td>\n",
       "      <td>0.0</td>\n",
       "      <td>0.0</td>\n",
       "    </tr>\n",
       "  </tbody>\n",
       "</table>\n",
       "<p>21794 rows × 4 columns</p>\n",
       "</div>"
      ],
      "text/plain": [
       "                        topic_0  topic_1  topic_2  topic_3\n",
       "(text, rescoren)            0.0      0.0      0.0      0.0\n",
       "(text, beltd)               0.0      0.0      0.0      0.0\n",
       "(text, intensities)         0.0      0.0      0.0      0.0\n",
       "(text, nave)                0.0      0.0      0.0      0.0\n",
       "(text, closedcaptions)      0.0      0.0      0.0      0.0\n",
       "...                         ...      ...      ...      ...\n",
       "(text, popov)               0.0      0.0      0.0      0.0\n",
       "(text, fx)                  0.0      0.0      0.0      0.0\n",
       "(text, desoer)              0.0      0.0      0.0      0.0\n",
       "(text, row)                 0.0      0.0      0.0      0.0\n",
       "(text, vidya)               0.0      0.0      0.0      0.0\n",
       "\n",
       "[21794 rows x 4 columns]"
      ]
     },
     "execution_count": 78,
     "metadata": {},
     "output_type": "execute_result"
    }
   ],
   "source": [
    "model_artm.get_phi()"
   ]
  },
  {
   "cell_type": "markdown",
   "metadata": {},
   "source": [
    "#### Матрица вероятностей тем в документах."
   ]
  },
  {
   "cell_type": "code",
   "execution_count": 250,
   "metadata": {},
   "outputs": [
    {
     "data": {
      "text/html": [
       "<div>\n",
       "<style scoped>\n",
       "    .dataframe tbody tr th:only-of-type {\n",
       "        vertical-align: middle;\n",
       "    }\n",
       "\n",
       "    .dataframe tbody tr th {\n",
       "        vertical-align: top;\n",
       "    }\n",
       "\n",
       "    .dataframe thead th {\n",
       "        text-align: right;\n",
       "    }\n",
       "</style>\n",
       "<table border=\"1\" class=\"dataframe\">\n",
       "  <thead>\n",
       "    <tr style=\"text-align: right;\">\n",
       "      <th></th>\n",
       "      <th>4000</th>\n",
       "      <th>4001</th>\n",
       "      <th>4002</th>\n",
       "      <th>4003</th>\n",
       "      <th>4004</th>\n",
       "      <th>4005</th>\n",
       "      <th>4006</th>\n",
       "      <th>4007</th>\n",
       "      <th>4008</th>\n",
       "      <th>4009</th>\n",
       "      <th>...</th>\n",
       "      <th>990</th>\n",
       "      <th>991</th>\n",
       "      <th>992</th>\n",
       "      <th>993</th>\n",
       "      <th>994</th>\n",
       "      <th>995</th>\n",
       "      <th>996</th>\n",
       "      <th>997</th>\n",
       "      <th>998</th>\n",
       "      <th>999</th>\n",
       "    </tr>\n",
       "  </thead>\n",
       "  <tbody>\n",
       "    <tr>\n",
       "      <th>topic_0</th>\n",
       "      <td>0.245230</td>\n",
       "      <td>0.000000</td>\n",
       "      <td>0.000000</td>\n",
       "      <td>0.000000</td>\n",
       "      <td>0.000000</td>\n",
       "      <td>0.099113</td>\n",
       "      <td>0.269494</td>\n",
       "      <td>0.000000</td>\n",
       "      <td>0.357605</td>\n",
       "      <td>0.0</td>\n",
       "      <td>...</td>\n",
       "      <td>1.810273e-01</td>\n",
       "      <td>0.629886</td>\n",
       "      <td>0.000000</td>\n",
       "      <td>0.132707</td>\n",
       "      <td>0.000000</td>\n",
       "      <td>0.000000</td>\n",
       "      <td>0.260683</td>\n",
       "      <td>0.102542</td>\n",
       "      <td>0.227376</td>\n",
       "      <td>0.000000</td>\n",
       "    </tr>\n",
       "    <tr>\n",
       "      <th>topic_1</th>\n",
       "      <td>0.000000</td>\n",
       "      <td>0.114176</td>\n",
       "      <td>0.179412</td>\n",
       "      <td>0.000000</td>\n",
       "      <td>0.000000</td>\n",
       "      <td>0.044161</td>\n",
       "      <td>0.000000</td>\n",
       "      <td>0.166667</td>\n",
       "      <td>0.000000</td>\n",
       "      <td>0.0</td>\n",
       "      <td>...</td>\n",
       "      <td>2.979465e-01</td>\n",
       "      <td>0.000000</td>\n",
       "      <td>0.425165</td>\n",
       "      <td>0.000000</td>\n",
       "      <td>0.112342</td>\n",
       "      <td>0.126774</td>\n",
       "      <td>0.213302</td>\n",
       "      <td>0.000000</td>\n",
       "      <td>0.077676</td>\n",
       "      <td>0.084125</td>\n",
       "    </tr>\n",
       "    <tr>\n",
       "      <th>topic_2</th>\n",
       "      <td>0.000000</td>\n",
       "      <td>0.000000</td>\n",
       "      <td>0.036031</td>\n",
       "      <td>0.000000</td>\n",
       "      <td>0.000000</td>\n",
       "      <td>0.000000</td>\n",
       "      <td>0.000000</td>\n",
       "      <td>0.000000</td>\n",
       "      <td>0.000000</td>\n",
       "      <td>0.0</td>\n",
       "      <td>...</td>\n",
       "      <td>1.188544e-12</td>\n",
       "      <td>0.060939</td>\n",
       "      <td>0.000000</td>\n",
       "      <td>0.123621</td>\n",
       "      <td>0.196275</td>\n",
       "      <td>0.083182</td>\n",
       "      <td>0.084668</td>\n",
       "      <td>0.160473</td>\n",
       "      <td>0.000000</td>\n",
       "      <td>0.074490</td>\n",
       "    </tr>\n",
       "    <tr>\n",
       "      <th>topic_3</th>\n",
       "      <td>0.126935</td>\n",
       "      <td>0.000000</td>\n",
       "      <td>0.000000</td>\n",
       "      <td>0.238280</td>\n",
       "      <td>0.000000</td>\n",
       "      <td>0.034862</td>\n",
       "      <td>0.000012</td>\n",
       "      <td>0.202383</td>\n",
       "      <td>0.242958</td>\n",
       "      <td>0.0</td>\n",
       "      <td>...</td>\n",
       "      <td>0.000000e+00</td>\n",
       "      <td>0.063357</td>\n",
       "      <td>0.000000</td>\n",
       "      <td>0.000000</td>\n",
       "      <td>0.064291</td>\n",
       "      <td>0.000000</td>\n",
       "      <td>0.000000</td>\n",
       "      <td>0.000000</td>\n",
       "      <td>0.230536</td>\n",
       "      <td>0.000000</td>\n",
       "    </tr>\n",
       "    <tr>\n",
       "      <th>topic_4</th>\n",
       "      <td>0.025641</td>\n",
       "      <td>0.000000</td>\n",
       "      <td>0.000000</td>\n",
       "      <td>0.000000</td>\n",
       "      <td>0.000000</td>\n",
       "      <td>0.000000</td>\n",
       "      <td>0.000000</td>\n",
       "      <td>0.083333</td>\n",
       "      <td>0.000000</td>\n",
       "      <td>0.0</td>\n",
       "      <td>...</td>\n",
       "      <td>0.000000e+00</td>\n",
       "      <td>0.000000</td>\n",
       "      <td>0.058824</td>\n",
       "      <td>0.054947</td>\n",
       "      <td>0.333123</td>\n",
       "      <td>0.147546</td>\n",
       "      <td>0.000000</td>\n",
       "      <td>0.000000</td>\n",
       "      <td>0.024219</td>\n",
       "      <td>0.005191</td>\n",
       "    </tr>\n",
       "    <tr>\n",
       "      <th>topic_5</th>\n",
       "      <td>0.000000</td>\n",
       "      <td>0.168739</td>\n",
       "      <td>0.000000</td>\n",
       "      <td>0.000000</td>\n",
       "      <td>0.000000</td>\n",
       "      <td>0.000000</td>\n",
       "      <td>0.000000</td>\n",
       "      <td>0.000000</td>\n",
       "      <td>0.000000</td>\n",
       "      <td>0.0</td>\n",
       "      <td>...</td>\n",
       "      <td>3.378000e-01</td>\n",
       "      <td>0.121973</td>\n",
       "      <td>0.486600</td>\n",
       "      <td>0.553031</td>\n",
       "      <td>0.000000</td>\n",
       "      <td>0.622498</td>\n",
       "      <td>0.370588</td>\n",
       "      <td>0.550144</td>\n",
       "      <td>0.071635</td>\n",
       "      <td>0.673198</td>\n",
       "    </tr>\n",
       "    <tr>\n",
       "      <th>topic_6</th>\n",
       "      <td>0.102564</td>\n",
       "      <td>0.000000</td>\n",
       "      <td>0.000000</td>\n",
       "      <td>0.021739</td>\n",
       "      <td>0.000000</td>\n",
       "      <td>0.000000</td>\n",
       "      <td>0.066014</td>\n",
       "      <td>0.000000</td>\n",
       "      <td>0.046108</td>\n",
       "      <td>0.0</td>\n",
       "      <td>...</td>\n",
       "      <td>0.000000e+00</td>\n",
       "      <td>0.000000</td>\n",
       "      <td>0.000000</td>\n",
       "      <td>0.000000</td>\n",
       "      <td>0.000000</td>\n",
       "      <td>0.000000</td>\n",
       "      <td>0.000000</td>\n",
       "      <td>0.025641</td>\n",
       "      <td>0.000000</td>\n",
       "      <td>0.000000</td>\n",
       "    </tr>\n",
       "    <tr>\n",
       "      <th>topic_7</th>\n",
       "      <td>0.000000</td>\n",
       "      <td>0.000000</td>\n",
       "      <td>0.331227</td>\n",
       "      <td>0.360841</td>\n",
       "      <td>0.000000</td>\n",
       "      <td>0.286674</td>\n",
       "      <td>0.000000</td>\n",
       "      <td>0.136732</td>\n",
       "      <td>0.000000</td>\n",
       "      <td>0.5</td>\n",
       "      <td>...</td>\n",
       "      <td>0.000000e+00</td>\n",
       "      <td>0.000000</td>\n",
       "      <td>0.029412</td>\n",
       "      <td>0.000000</td>\n",
       "      <td>0.000000</td>\n",
       "      <td>0.000000</td>\n",
       "      <td>0.023136</td>\n",
       "      <td>0.000000</td>\n",
       "      <td>0.052929</td>\n",
       "      <td>0.000000</td>\n",
       "    </tr>\n",
       "    <tr>\n",
       "      <th>topic_8</th>\n",
       "      <td>0.000000</td>\n",
       "      <td>0.000000</td>\n",
       "      <td>0.000000</td>\n",
       "      <td>0.057535</td>\n",
       "      <td>0.000000</td>\n",
       "      <td>0.040000</td>\n",
       "      <td>0.031579</td>\n",
       "      <td>0.000000</td>\n",
       "      <td>0.000000</td>\n",
       "      <td>0.0</td>\n",
       "      <td>...</td>\n",
       "      <td>4.775720e-02</td>\n",
       "      <td>0.029412</td>\n",
       "      <td>0.000000</td>\n",
       "      <td>0.000000</td>\n",
       "      <td>0.053346</td>\n",
       "      <td>0.000000</td>\n",
       "      <td>0.023339</td>\n",
       "      <td>0.062658</td>\n",
       "      <td>0.000000</td>\n",
       "      <td>0.044880</td>\n",
       "    </tr>\n",
       "    <tr>\n",
       "      <th>topic_9</th>\n",
       "      <td>0.000000</td>\n",
       "      <td>0.047612</td>\n",
       "      <td>0.012810</td>\n",
       "      <td>0.000000</td>\n",
       "      <td>0.000000</td>\n",
       "      <td>0.033160</td>\n",
       "      <td>0.024079</td>\n",
       "      <td>0.000000</td>\n",
       "      <td>0.000000</td>\n",
       "      <td>0.0</td>\n",
       "      <td>...</td>\n",
       "      <td>0.000000e+00</td>\n",
       "      <td>0.000000</td>\n",
       "      <td>0.000000</td>\n",
       "      <td>0.000000</td>\n",
       "      <td>0.000000</td>\n",
       "      <td>0.000000</td>\n",
       "      <td>0.000000</td>\n",
       "      <td>0.000000</td>\n",
       "      <td>0.000000</td>\n",
       "      <td>0.000000</td>\n",
       "    </tr>\n",
       "    <tr>\n",
       "      <th>topic_10</th>\n",
       "      <td>0.099319</td>\n",
       "      <td>0.039058</td>\n",
       "      <td>0.000000</td>\n",
       "      <td>0.000000</td>\n",
       "      <td>0.000000</td>\n",
       "      <td>0.137831</td>\n",
       "      <td>0.029310</td>\n",
       "      <td>0.154114</td>\n",
       "      <td>0.000000</td>\n",
       "      <td>0.0</td>\n",
       "      <td>...</td>\n",
       "      <td>1.109557e-01</td>\n",
       "      <td>0.094433</td>\n",
       "      <td>0.000000</td>\n",
       "      <td>0.135694</td>\n",
       "      <td>0.164649</td>\n",
       "      <td>0.020000</td>\n",
       "      <td>0.000000</td>\n",
       "      <td>0.098543</td>\n",
       "      <td>0.315628</td>\n",
       "      <td>0.088601</td>\n",
       "    </tr>\n",
       "    <tr>\n",
       "      <th>topic_11</th>\n",
       "      <td>0.400311</td>\n",
       "      <td>0.548431</td>\n",
       "      <td>0.440519</td>\n",
       "      <td>0.321604</td>\n",
       "      <td>0.699278</td>\n",
       "      <td>0.170382</td>\n",
       "      <td>0.579513</td>\n",
       "      <td>0.256772</td>\n",
       "      <td>0.353329</td>\n",
       "      <td>0.0</td>\n",
       "      <td>...</td>\n",
       "      <td>0.000000e+00</td>\n",
       "      <td>0.000000</td>\n",
       "      <td>0.000000</td>\n",
       "      <td>0.000000</td>\n",
       "      <td>0.000000</td>\n",
       "      <td>0.000000</td>\n",
       "      <td>0.000000</td>\n",
       "      <td>0.000000</td>\n",
       "      <td>0.000000</td>\n",
       "      <td>0.000000</td>\n",
       "    </tr>\n",
       "    <tr>\n",
       "      <th>topic_12</th>\n",
       "      <td>0.000000</td>\n",
       "      <td>0.000000</td>\n",
       "      <td>0.000000</td>\n",
       "      <td>0.000000</td>\n",
       "      <td>0.000000</td>\n",
       "      <td>0.076421</td>\n",
       "      <td>0.000000</td>\n",
       "      <td>0.000000</td>\n",
       "      <td>0.000000</td>\n",
       "      <td>0.0</td>\n",
       "      <td>...</td>\n",
       "      <td>2.451335e-02</td>\n",
       "      <td>0.000000</td>\n",
       "      <td>0.000000</td>\n",
       "      <td>0.000000</td>\n",
       "      <td>0.062289</td>\n",
       "      <td>0.000000</td>\n",
       "      <td>0.024284</td>\n",
       "      <td>0.000000</td>\n",
       "      <td>0.000000</td>\n",
       "      <td>0.029517</td>\n",
       "    </tr>\n",
       "    <tr>\n",
       "      <th>topic_13</th>\n",
       "      <td>0.000000</td>\n",
       "      <td>0.081984</td>\n",
       "      <td>0.000000</td>\n",
       "      <td>0.000000</td>\n",
       "      <td>0.300721</td>\n",
       "      <td>0.077396</td>\n",
       "      <td>0.000000</td>\n",
       "      <td>0.000000</td>\n",
       "      <td>0.000000</td>\n",
       "      <td>0.5</td>\n",
       "      <td>...</td>\n",
       "      <td>0.000000e+00</td>\n",
       "      <td>0.000000</td>\n",
       "      <td>0.000000</td>\n",
       "      <td>0.000000</td>\n",
       "      <td>0.013685</td>\n",
       "      <td>0.000000</td>\n",
       "      <td>0.000000</td>\n",
       "      <td>0.000000</td>\n",
       "      <td>0.000000</td>\n",
       "      <td>0.000000</td>\n",
       "    </tr>\n",
       "  </tbody>\n",
       "</table>\n",
       "<p>14 rows × 5262 columns</p>\n",
       "</div>"
      ],
      "text/plain": [
       "              4000      4001      4002      4003      4004      4005  \\\n",
       "topic_0   0.245230  0.000000  0.000000  0.000000  0.000000  0.099113   \n",
       "topic_1   0.000000  0.114176  0.179412  0.000000  0.000000  0.044161   \n",
       "topic_2   0.000000  0.000000  0.036031  0.000000  0.000000  0.000000   \n",
       "topic_3   0.126935  0.000000  0.000000  0.238280  0.000000  0.034862   \n",
       "topic_4   0.025641  0.000000  0.000000  0.000000  0.000000  0.000000   \n",
       "topic_5   0.000000  0.168739  0.000000  0.000000  0.000000  0.000000   \n",
       "topic_6   0.102564  0.000000  0.000000  0.021739  0.000000  0.000000   \n",
       "topic_7   0.000000  0.000000  0.331227  0.360841  0.000000  0.286674   \n",
       "topic_8   0.000000  0.000000  0.000000  0.057535  0.000000  0.040000   \n",
       "topic_9   0.000000  0.047612  0.012810  0.000000  0.000000  0.033160   \n",
       "topic_10  0.099319  0.039058  0.000000  0.000000  0.000000  0.137831   \n",
       "topic_11  0.400311  0.548431  0.440519  0.321604  0.699278  0.170382   \n",
       "topic_12  0.000000  0.000000  0.000000  0.000000  0.000000  0.076421   \n",
       "topic_13  0.000000  0.081984  0.000000  0.000000  0.300721  0.077396   \n",
       "\n",
       "              4006      4007      4008  4009  ...          990       991   \\\n",
       "topic_0   0.269494  0.000000  0.357605   0.0  ...  1.810273e-01  0.629886   \n",
       "topic_1   0.000000  0.166667  0.000000   0.0  ...  2.979465e-01  0.000000   \n",
       "topic_2   0.000000  0.000000  0.000000   0.0  ...  1.188544e-12  0.060939   \n",
       "topic_3   0.000012  0.202383  0.242958   0.0  ...  0.000000e+00  0.063357   \n",
       "topic_4   0.000000  0.083333  0.000000   0.0  ...  0.000000e+00  0.000000   \n",
       "topic_5   0.000000  0.000000  0.000000   0.0  ...  3.378000e-01  0.121973   \n",
       "topic_6   0.066014  0.000000  0.046108   0.0  ...  0.000000e+00  0.000000   \n",
       "topic_7   0.000000  0.136732  0.000000   0.5  ...  0.000000e+00  0.000000   \n",
       "topic_8   0.031579  0.000000  0.000000   0.0  ...  4.775720e-02  0.029412   \n",
       "topic_9   0.024079  0.000000  0.000000   0.0  ...  0.000000e+00  0.000000   \n",
       "topic_10  0.029310  0.154114  0.000000   0.0  ...  1.109557e-01  0.094433   \n",
       "topic_11  0.579513  0.256772  0.353329   0.0  ...  0.000000e+00  0.000000   \n",
       "topic_12  0.000000  0.000000  0.000000   0.0  ...  2.451335e-02  0.000000   \n",
       "topic_13  0.000000  0.000000  0.000000   0.5  ...  0.000000e+00  0.000000   \n",
       "\n",
       "              992       993       994       995       996       997   \\\n",
       "topic_0   0.000000  0.132707  0.000000  0.000000  0.260683  0.102542   \n",
       "topic_1   0.425165  0.000000  0.112342  0.126774  0.213302  0.000000   \n",
       "topic_2   0.000000  0.123621  0.196275  0.083182  0.084668  0.160473   \n",
       "topic_3   0.000000  0.000000  0.064291  0.000000  0.000000  0.000000   \n",
       "topic_4   0.058824  0.054947  0.333123  0.147546  0.000000  0.000000   \n",
       "topic_5   0.486600  0.553031  0.000000  0.622498  0.370588  0.550144   \n",
       "topic_6   0.000000  0.000000  0.000000  0.000000  0.000000  0.025641   \n",
       "topic_7   0.029412  0.000000  0.000000  0.000000  0.023136  0.000000   \n",
       "topic_8   0.000000  0.000000  0.053346  0.000000  0.023339  0.062658   \n",
       "topic_9   0.000000  0.000000  0.000000  0.000000  0.000000  0.000000   \n",
       "topic_10  0.000000  0.135694  0.164649  0.020000  0.000000  0.098543   \n",
       "topic_11  0.000000  0.000000  0.000000  0.000000  0.000000  0.000000   \n",
       "topic_12  0.000000  0.000000  0.062289  0.000000  0.024284  0.000000   \n",
       "topic_13  0.000000  0.000000  0.013685  0.000000  0.000000  0.000000   \n",
       "\n",
       "              998       999   \n",
       "topic_0   0.227376  0.000000  \n",
       "topic_1   0.077676  0.084125  \n",
       "topic_2   0.000000  0.074490  \n",
       "topic_3   0.230536  0.000000  \n",
       "topic_4   0.024219  0.005191  \n",
       "topic_5   0.071635  0.673198  \n",
       "topic_6   0.000000  0.000000  \n",
       "topic_7   0.052929  0.000000  \n",
       "topic_8   0.000000  0.044880  \n",
       "topic_9   0.000000  0.000000  \n",
       "topic_10  0.315628  0.088601  \n",
       "topic_11  0.000000  0.000000  \n",
       "topic_12  0.000000  0.029517  \n",
       "topic_13  0.000000  0.000000  \n",
       "\n",
       "[14 rows x 5262 columns]"
      ]
     },
     "execution_count": 250,
     "metadata": {},
     "output_type": "execute_result"
    }
   ],
   "source": [
    "model_artm.get_theta()"
   ]
  },
  {
   "cell_type": "markdown",
   "metadata": {},
   "source": [
    "# ПОСТРОИМ ТОПИКИ , ИСПОЛЬЗУЯ МОДАЛЬНОСТИ, которые у нас есть(data, title,...)"
   ]
  },
  {
   "cell_type": "code",
   "execution_count": 295,
   "metadata": {},
   "outputs": [],
   "source": [
    "batch_vectorizer = artm.BatchVectorizer(data_path=\"array_with_modality.txt\", data_format=\"vowpal_wabbit\",\n",
    "                                        target_folder=\"array_with_modality\")\n",
    "dictionary = artm.Dictionary()\n",
    "dictionary.gather(batch_vectorizer.data_path)"
   ]
  },
  {
   "cell_type": "code",
   "execution_count": 298,
   "metadata": {},
   "outputs": [],
   "source": [
    "num_topics = 14\n",
    "#from documentation\n",
    "model_artm = artm.ARTM(num_topics=num_topics, topic_names=['topic_{}'.format(j) for j in range(num_topics)], \n",
    "                       class_ids={\"text\":1,\"title\":1,\"author\":2, \"date\":3, \"journal\":1},\n",
    "                       reuse_theta=True, cache_theta=True, seed=-1)\n",
    "model_artm.initialize(dictionary)\n",
    "model_artm.scores.add(artm.PerplexityScore(name='PerplexityScore',class_ids={\"text\":1,\"title\":1,\"author\":2, \"date\":3, \"journal\":1}))\n",
    "model_artm.scores.add(artm.SparsityPhiScore(name='SparsityPhiScore', class_id='text'))\n",
    "model_artm.scores.add(artm.SparsityThetaScore(name='SparsityThetaScore'))\n",
    "model_artm.scores.add(artm.TopicKernelScore(name='TopicKernelScore',class_id='text',\n",
    "                                                  probability_mass_threshold=0.3))\n",
    "model_artm.scores.add(artm.TopTokensScore(name='TopTokensScore',class_id='text', num_tokens=10))\n",
    "model_artm.scores.add(artm.TopTokensScore(\n",
    "                            name='TopTokensCoherenceScore',\n",
    "                            class_id='text',\n",
    "                            num_tokens=10,\n",
    "                            topic_names=topic_names,\n",
    "                            dictionary=cooc_dict))\n",
    "#model_artm.regularizers.add(artm.SmoothSparseThetaRegularizer(name='SparseTheta',tau=-0.15))\n",
    "#model_artm.regularizers.add(artm.SmoothSparsePhiRegularizer(name='SparsePhi', tau=-0.1))\n",
    "\n",
    "#model_artm.regularizers.add(artm.DecorrelatorPhiRegularizer(name='DecorrelatorPhi', tau=1.5e+5))"
   ]
  },
  {
   "cell_type": "code",
   "execution_count": 299,
   "metadata": {},
   "outputs": [],
   "source": [
    "model_artm.fit_offline(batch_vectorizer=batch_vectorizer, num_collection_passes=15)"
   ]
  },
  {
   "cell_type": "code",
   "execution_count": 300,
   "metadata": {},
   "outputs": [
    {
     "data": {
      "text/plain": [
       "[<matplotlib.lines.Line2D at 0x7f616eef6198>]"
      ]
     },
     "execution_count": 300,
     "metadata": {},
     "output_type": "execute_result"
    },
    {
     "data": {
      "image/png": "[encoded data removed]",
      "text/plain": [
       "<Figure size 432x288 with 1 Axes>"
      ]
     },
     "metadata": {
      "needs_background": "light"
     },
     "output_type": "display_data"
    }
   ],
   "source": [
    "plt.plot(model_artm.score_tracker[\"PerplexityScore\"].value)"
   ]
  },
  {
   "cell_type": "code",
   "execution_count": 303,
   "metadata": {},
   "outputs": [],
   "source": [
    "model_artm.regularizers.add(artm.SmoothSparsePhiRegularizer(name='SparsePhi', tau=-100))"
   ]
  },
  {
   "cell_type": "code",
   "execution_count": 304,
   "metadata": {},
   "outputs": [],
   "source": [
    "model_artm.fit_offline(batch_vectorizer=batch_vectorizer, num_collection_passes=15)"
   ]
  },
  {
   "cell_type": "markdown",
   "metadata": {},
   "source": [
    "#### Проделаем те же шаги, что и для случая с одной модальностью(текст) и выведем результат"
   ]
  },
  {
   "cell_type": "code",
   "execution_count": 305,
   "metadata": {},
   "outputs": [
    {
     "name": "stdout",
     "output_type": "stream",
     "text": [
      "topic_0: \n",
      "['learn', 'use', 'method', 'function', 'show', 'propose', 'data', 'set', 'result', 'approach']\n",
      "topic_1: \n",
      "['information', 'representation', 'visual', 'image', 'structure', 'pattern', 'map', 'object', 'field', 'represent']\n",
      "topic_2: \n",
      "['model', 'system', 'neural', 'process', 'use', 'train', 'spike', 'state', 'behavior', 'make']\n",
      "topic_3: \n",
      "['word', 'language', 'semantic', 'context', 'information', 'base', 'natural', 'knowledge', 'method', 'evaluation']\n",
      "topic_4: \n",
      "['question', 'answer']\n",
      "topic_5: \n",
      "['neuron', 'model', 'input', 'network', 'show', 'spike', 'synaptic', 'activity', 'stimulus', 'response']\n",
      "topic_6: \n",
      "['measure', 'source', 'pronunciation']\n",
      "topic_7: \n",
      "['system', 'use', 'analysis', 'paper', 'information', 'approach', 'present', 'corpus', 'application', 'text']\n",
      "topic_8: \n",
      "['feature', 'task', 'model', 'data', 'method', 'work', 'label', 'learn', 'document', 'stateoftheart']\n",
      "topic_9: \n",
      "['speech', 'recognition', 'system', 'use', 'speaker', 'feature', 'performance', 'base', 'acoustic', 'human']\n",
      "topic_10: \n",
      "['algorithm', 'problem', 'time', 'distribution', 'rule', 'probability', 'present', 'estimation', 'component', 'estimate']\n",
      "topic_11: \n",
      "['model', 'use', 'language', 'word', 'show', 'approach', 'result', 'translation', 'training', 'sentence']\n",
      "topic_12: \n",
      "['model', 'signal', 'data', 'control', 'cluster', 'order', 'event', 'motor']\n",
      "topic_13: \n",
      "['network', 'neural', 'memory', 'unit', 'recurrent', 'architecture', 'state', 'sense', 'group']\n"
     ]
    }
   ],
   "source": [
    "for topic_name in model_artm.topic_names:\n",
    "    print (topic_name + ': ',)\n",
    "    print (model_artm.score_tracker['TopTokensScore'].last_tokens[topic_name])"
   ]
  },
  {
   "cell_type": "code",
   "execution_count": 306,
   "metadata": {},
   "outputs": [
    {
     "name": "stdout",
     "output_type": "stream",
     "text": [
      "0.9984301328659058\n",
      "0.6638703346252441\n",
      "103.46533966064453\n"
     ]
    }
   ],
   "source": [
    "print (model_artm.score_tracker[\"SparsityPhiScore\"].last_value)\n",
    "print (model_artm.score_tracker[\"SparsityThetaScore\"].last_value)\n",
    "print (model_artm.score_tracker[\"PerplexityScore\"].last_value)"
   ]
  },
  {
   "cell_type": "markdown",
   "metadata": {},
   "source": [
    "# ИЕРАРХИЧЕСКИЙ TOPIC MODELLING(используем batch с модальностью текст)"
   ]
  },
  {
   "cell_type": "code",
   "execution_count": 311,
   "metadata": {},
   "outputs": [],
   "source": [
    "batch_vectorizer = artm.BatchVectorizer(data_path='final_vw_data',\n",
    "                                        data_format='batches')\n",
    "dictionary = artm.Dictionary()\n",
    "dictionary.gather(batch_vectorizer.data_path)"
   ]
  },
  {
   "cell_type": "markdown",
   "metadata": {},
   "source": [
    "#### Cоздадим основную модель для иерархии"
   ]
  },
  {
   "cell_type": "code",
   "execution_count": 308,
   "metadata": {},
   "outputs": [],
   "source": [
    "hier = artm.hARTM()"
   ]
  },
  {
   "cell_type": "markdown",
   "metadata": {},
   "source": [
    "#### Уровни в иерархии строются постепенно, создадим объект нулевого уровня"
   ]
  },
  {
   "cell_type": "code",
   "execution_count": 309,
   "metadata": {},
   "outputs": [],
   "source": [
    "level0 = hier.add_level(num_topics=10)\n",
    "level0.scores.add(artm.TopTokensScore(name='TopTokensScore', num_tokens=20, \n",
    "                                      class_id='text'))"
   ]
  },
  {
   "cell_type": "code",
   "execution_count": 312,
   "metadata": {},
   "outputs": [],
   "source": [
    "level0.initialize(dictionary=dictionary)\n",
    "level0.fit_offline(batch_vectorizer, num_collection_passes=30)"
   ]
  },
  {
   "cell_type": "code",
   "execution_count": 314,
   "metadata": {},
   "outputs": [
    {
     "name": "stdout",
     "output_type": "stream",
     "text": [
      "topic_0: \n",
      "model, system, control, visual, use, image, dynamic, brain, task, motion, signal, result, movement, study, different, learn, data, change, motor, time\n",
      "topic_1: \n",
      "neuron, model, spike, input, synaptic, stimulus, cell, fire, activity, response, show, rate, time, population, neural, information, neuronal, cortical, mechanism, network\n",
      "topic_2: \n",
      "parse, representation, structure, semantic, tree, use, information, feature, grammar, relation, approach, dependency, parser, show, question, object, task, syntactic, sentence, similarity\n",
      "topic_3: \n",
      "system, speech, use, dialogue, human, user, paper, feature, spoken, information, show, utterance, present, result, interaction, generation, synthesis, evaluation, task, model\n",
      "topic_4: \n",
      "algorithm, function, learn, problem, show, error, result, use, method, kernel, linear, parameter, set, case, approximation, bound, number, optimal, generalization, derive\n",
      "topic_5: \n",
      "model, data, method, use, propose, approach, cluster, learn, estimate, set, parameter, algorithm, estimation, framework, bayesian, show, statistical, train, base, probability\n",
      "topic_6: \n",
      "language, translation, system, text, use, machine, research, information, natural, paper, processing, domain, present, task, analysis, different, corpus, work, evaluation, data\n",
      "topic_7: \n",
      "network, neural, learn, memory, weight, use, unit, input, recurrent, pattern, architecture, time, rule, show, dynamic, problem, layer, state, result, training\n",
      "topic_8: \n",
      "speech, recognition, feature, use, speaker, propose, method, signal, performance, noise, adaptation, result, technique, base, model, source, system, show, algorithm, approach\n",
      "topic_9: \n",
      "word, language, use, model, corpus, method, system, approach, result, text, task, training, paper, show, error, set, recognition, two, sentence, performance\n"
     ]
    }
   ],
   "source": [
    "for topic_name in level0.topic_names:\n",
    "    print (topic_name + ': ',)\n",
    "    print (\", \".join(level0.score_tracker['TopTokensScore'].last_tokens[topic_name]))"
   ]
  },
  {
   "cell_type": "markdown",
   "metadata": {},
   "source": [
    "#### И только после этого создадим следующий уровень"
   ]
  },
  {
   "cell_type": "code",
   "execution_count": 315,
   "metadata": {},
   "outputs": [],
   "source": [
    "level1 = hier.add_level(num_topics=20, topic_names=['внутренний_топик_' + str(i) for i in range(20)], \n",
    "                        parent_level_weight=1)"
   ]
  },
  {
   "cell_type": "code",
   "execution_count": 316,
   "metadata": {},
   "outputs": [],
   "source": [
    "level1.scores.add(artm.TopTokensScore(name='TopTokensScore', num_tokens=20, \n",
    "                                      class_id='text'))"
   ]
  },
  {
   "cell_type": "code",
   "execution_count": 317,
   "metadata": {},
   "outputs": [],
   "source": [
    "level1.initialize(dictionary=dictionary)\n",
    "level1.fit_offline(batch_vectorizer, num_collection_passes=30)"
   ]
  },
  {
   "cell_type": "code",
   "execution_count": 318,
   "metadata": {},
   "outputs": [],
   "source": [
    "psi = level1.get_psi()"
   ]
  },
  {
   "cell_type": "code",
   "execution_count": 319,
   "metadata": {},
   "outputs": [
    {
     "data": {
      "text/html": [
       "<div>\n",
       "<style scoped>\n",
       "    .dataframe tbody tr th:only-of-type {\n",
       "        vertical-align: middle;\n",
       "    }\n",
       "\n",
       "    .dataframe tbody tr th {\n",
       "        vertical-align: top;\n",
       "    }\n",
       "\n",
       "    .dataframe thead th {\n",
       "        text-align: right;\n",
       "    }\n",
       "</style>\n",
       "<table border=\"1\" class=\"dataframe\">\n",
       "  <thead>\n",
       "    <tr style=\"text-align: right;\">\n",
       "      <th></th>\n",
       "      <th>topic_0</th>\n",
       "      <th>topic_1</th>\n",
       "      <th>topic_2</th>\n",
       "      <th>topic_3</th>\n",
       "      <th>topic_4</th>\n",
       "      <th>topic_5</th>\n",
       "      <th>topic_6</th>\n",
       "      <th>topic_7</th>\n",
       "      <th>topic_8</th>\n",
       "      <th>topic_9</th>\n",
       "    </tr>\n",
       "  </thead>\n",
       "  <tbody>\n",
       "    <tr>\n",
       "      <th>внутренний_топик_0</th>\n",
       "      <td>0.007193</td>\n",
       "      <td>0.260739</td>\n",
       "      <td>0.000124</td>\n",
       "      <td>0.000090</td>\n",
       "      <td>0.000053</td>\n",
       "      <td>0.000070</td>\n",
       "      <td>0.000052</td>\n",
       "      <td>0.000263</td>\n",
       "      <td>0.000043</td>\n",
       "      <td>0.000024</td>\n",
       "    </tr>\n",
       "    <tr>\n",
       "      <th>внутренний_топик_1</th>\n",
       "      <td>0.000109</td>\n",
       "      <td>0.000014</td>\n",
       "      <td>0.014589</td>\n",
       "      <td>0.002179</td>\n",
       "      <td>0.000090</td>\n",
       "      <td>0.000405</td>\n",
       "      <td>0.078190</td>\n",
       "      <td>0.000069</td>\n",
       "      <td>0.000580</td>\n",
       "      <td>0.280796</td>\n",
       "    </tr>\n",
       "    <tr>\n",
       "      <th>внутренний_топик_2</th>\n",
       "      <td>0.000367</td>\n",
       "      <td>0.355991</td>\n",
       "      <td>0.000045</td>\n",
       "      <td>0.000072</td>\n",
       "      <td>0.000424</td>\n",
       "      <td>0.000084</td>\n",
       "      <td>0.000018</td>\n",
       "      <td>0.000285</td>\n",
       "      <td>0.000224</td>\n",
       "      <td>0.000077</td>\n",
       "    </tr>\n",
       "    <tr>\n",
       "      <th>внутренний_топик_3</th>\n",
       "      <td>0.004083</td>\n",
       "      <td>0.002320</td>\n",
       "      <td>0.002474</td>\n",
       "      <td>0.198137</td>\n",
       "      <td>0.000262</td>\n",
       "      <td>0.000536</td>\n",
       "      <td>0.001490</td>\n",
       "      <td>0.000096</td>\n",
       "      <td>0.000640</td>\n",
       "      <td>0.002078</td>\n",
       "    </tr>\n",
       "    <tr>\n",
       "      <th>внутренний_топик_4</th>\n",
       "      <td>0.000444</td>\n",
       "      <td>0.003384</td>\n",
       "      <td>0.000213</td>\n",
       "      <td>0.000084</td>\n",
       "      <td>0.367667</td>\n",
       "      <td>0.002032</td>\n",
       "      <td>0.000078</td>\n",
       "      <td>0.001097</td>\n",
       "      <td>0.001255</td>\n",
       "      <td>0.000449</td>\n",
       "    </tr>\n",
       "    <tr>\n",
       "      <th>внутренний_топик_5</th>\n",
       "      <td>0.000602</td>\n",
       "      <td>0.000841</td>\n",
       "      <td>0.001097</td>\n",
       "      <td>0.000425</td>\n",
       "      <td>0.006696</td>\n",
       "      <td>0.001268</td>\n",
       "      <td>0.000208</td>\n",
       "      <td>0.270400</td>\n",
       "      <td>0.000140</td>\n",
       "      <td>0.001027</td>\n",
       "    </tr>\n",
       "    <tr>\n",
       "      <th>внутренний_топик_6</th>\n",
       "      <td>0.977961</td>\n",
       "      <td>0.001597</td>\n",
       "      <td>0.000303</td>\n",
       "      <td>0.000543</td>\n",
       "      <td>0.000085</td>\n",
       "      <td>0.000126</td>\n",
       "      <td>0.000077</td>\n",
       "      <td>0.000230</td>\n",
       "      <td>0.000121</td>\n",
       "      <td>0.000061</td>\n",
       "    </tr>\n",
       "    <tr>\n",
       "      <th>внутренний_топик_7</th>\n",
       "      <td>0.000145</td>\n",
       "      <td>0.000105</td>\n",
       "      <td>0.000052</td>\n",
       "      <td>0.001274</td>\n",
       "      <td>0.000051</td>\n",
       "      <td>0.000045</td>\n",
       "      <td>0.000025</td>\n",
       "      <td>0.000047</td>\n",
       "      <td>0.634975</td>\n",
       "      <td>0.000419</td>\n",
       "    </tr>\n",
       "    <tr>\n",
       "      <th>внутренний_топик_8</th>\n",
       "      <td>0.000486</td>\n",
       "      <td>0.003561</td>\n",
       "      <td>0.000017</td>\n",
       "      <td>0.000010</td>\n",
       "      <td>0.000112</td>\n",
       "      <td>0.000141</td>\n",
       "      <td>0.000008</td>\n",
       "      <td>0.407173</td>\n",
       "      <td>0.000014</td>\n",
       "      <td>0.000007</td>\n",
       "    </tr>\n",
       "    <tr>\n",
       "      <th>внутренний_топик_9</th>\n",
       "      <td>0.000824</td>\n",
       "      <td>0.000142</td>\n",
       "      <td>0.004327</td>\n",
       "      <td>0.002632</td>\n",
       "      <td>0.002120</td>\n",
       "      <td>0.008828</td>\n",
       "      <td>0.001659</td>\n",
       "      <td>0.001007</td>\n",
       "      <td>0.281097</td>\n",
       "      <td>0.015477</td>\n",
       "    </tr>\n",
       "    <tr>\n",
       "      <th>внутренний_топик_10</th>\n",
       "      <td>0.000258</td>\n",
       "      <td>0.000030</td>\n",
       "      <td>0.000189</td>\n",
       "      <td>0.789402</td>\n",
       "      <td>0.000012</td>\n",
       "      <td>0.000017</td>\n",
       "      <td>0.000693</td>\n",
       "      <td>0.000036</td>\n",
       "      <td>0.000529</td>\n",
       "      <td>0.000736</td>\n",
       "    </tr>\n",
       "    <tr>\n",
       "      <th>внутренний_топик_11</th>\n",
       "      <td>0.001227</td>\n",
       "      <td>0.000294</td>\n",
       "      <td>0.001410</td>\n",
       "      <td>0.000189</td>\n",
       "      <td>0.001262</td>\n",
       "      <td>0.956324</td>\n",
       "      <td>0.000352</td>\n",
       "      <td>0.000238</td>\n",
       "      <td>0.002566</td>\n",
       "      <td>0.001595</td>\n",
       "    </tr>\n",
       "    <tr>\n",
       "      <th>внутренний_топик_12</th>\n",
       "      <td>0.000944</td>\n",
       "      <td>0.000689</td>\n",
       "      <td>0.000249</td>\n",
       "      <td>0.000103</td>\n",
       "      <td>0.001000</td>\n",
       "      <td>0.000268</td>\n",
       "      <td>0.000142</td>\n",
       "      <td>0.315031</td>\n",
       "      <td>0.000138</td>\n",
       "      <td>0.000396</td>\n",
       "    </tr>\n",
       "    <tr>\n",
       "      <th>внутренний_топик_13</th>\n",
       "      <td>0.000451</td>\n",
       "      <td>0.369132</td>\n",
       "      <td>0.000011</td>\n",
       "      <td>0.000074</td>\n",
       "      <td>0.000020</td>\n",
       "      <td>0.000004</td>\n",
       "      <td>0.000006</td>\n",
       "      <td>0.000059</td>\n",
       "      <td>0.000034</td>\n",
       "      <td>0.000007</td>\n",
       "    </tr>\n",
       "    <tr>\n",
       "      <th>внутренний_топик_14</th>\n",
       "      <td>0.004044</td>\n",
       "      <td>0.000897</td>\n",
       "      <td>0.002451</td>\n",
       "      <td>0.000411</td>\n",
       "      <td>0.015137</td>\n",
       "      <td>0.027604</td>\n",
       "      <td>0.000769</td>\n",
       "      <td>0.001100</td>\n",
       "      <td>0.075991</td>\n",
       "      <td>0.001539</td>\n",
       "    </tr>\n",
       "    <tr>\n",
       "      <th>внутренний_топик_15</th>\n",
       "      <td>0.000273</td>\n",
       "      <td>0.000101</td>\n",
       "      <td>0.000530</td>\n",
       "      <td>0.000095</td>\n",
       "      <td>0.604618</td>\n",
       "      <td>0.001435</td>\n",
       "      <td>0.000121</td>\n",
       "      <td>0.002432</td>\n",
       "      <td>0.000649</td>\n",
       "      <td>0.000493</td>\n",
       "    </tr>\n",
       "    <tr>\n",
       "      <th>внутренний_топик_16</th>\n",
       "      <td>0.000160</td>\n",
       "      <td>0.000052</td>\n",
       "      <td>0.969119</td>\n",
       "      <td>0.000343</td>\n",
       "      <td>0.000091</td>\n",
       "      <td>0.000355</td>\n",
       "      <td>0.001414</td>\n",
       "      <td>0.000073</td>\n",
       "      <td>0.000050</td>\n",
       "      <td>0.000664</td>\n",
       "    </tr>\n",
       "    <tr>\n",
       "      <th>внутренний_топик_17</th>\n",
       "      <td>0.000068</td>\n",
       "      <td>0.000031</td>\n",
       "      <td>0.000986</td>\n",
       "      <td>0.000911</td>\n",
       "      <td>0.000087</td>\n",
       "      <td>0.000144</td>\n",
       "      <td>0.000665</td>\n",
       "      <td>0.000168</td>\n",
       "      <td>0.000692</td>\n",
       "      <td>0.692524</td>\n",
       "    </tr>\n",
       "    <tr>\n",
       "      <th>внутренний_топик_18</th>\n",
       "      <td>0.000065</td>\n",
       "      <td>0.000013</td>\n",
       "      <td>0.000992</td>\n",
       "      <td>0.001096</td>\n",
       "      <td>0.000018</td>\n",
       "      <td>0.000015</td>\n",
       "      <td>0.428150</td>\n",
       "      <td>0.000027</td>\n",
       "      <td>0.000019</td>\n",
       "      <td>0.000671</td>\n",
       "    </tr>\n",
       "    <tr>\n",
       "      <th>внутренний_топик_19</th>\n",
       "      <td>0.000295</td>\n",
       "      <td>0.000065</td>\n",
       "      <td>0.000825</td>\n",
       "      <td>0.001929</td>\n",
       "      <td>0.000193</td>\n",
       "      <td>0.000300</td>\n",
       "      <td>0.485883</td>\n",
       "      <td>0.000168</td>\n",
       "      <td>0.000242</td>\n",
       "      <td>0.000957</td>\n",
       "    </tr>\n",
       "  </tbody>\n",
       "</table>\n",
       "</div>"
      ],
      "text/plain": [
       "                      topic_0   topic_1   topic_2   topic_3   topic_4  \\\n",
       "внутренний_топик_0   0.007193  0.260739  0.000124  0.000090  0.000053   \n",
       "внутренний_топик_1   0.000109  0.000014  0.014589  0.002179  0.000090   \n",
       "внутренний_топик_2   0.000367  0.355991  0.000045  0.000072  0.000424   \n",
       "внутренний_топик_3   0.004083  0.002320  0.002474  0.198137  0.000262   \n",
       "внутренний_топик_4   0.000444  0.003384  0.000213  0.000084  0.367667   \n",
       "внутренний_топик_5   0.000602  0.000841  0.001097  0.000425  0.006696   \n",
       "внутренний_топик_6   0.977961  0.001597  0.000303  0.000543  0.000085   \n",
       "внутренний_топик_7   0.000145  0.000105  0.000052  0.001274  0.000051   \n",
       "внутренний_топик_8   0.000486  0.003561  0.000017  0.000010  0.000112   \n",
       "внутренний_топик_9   0.000824  0.000142  0.004327  0.002632  0.002120   \n",
       "внутренний_топик_10  0.000258  0.000030  0.000189  0.789402  0.000012   \n",
       "внутренний_топик_11  0.001227  0.000294  0.001410  0.000189  0.001262   \n",
       "внутренний_топик_12  0.000944  0.000689  0.000249  0.000103  0.001000   \n",
       "внутренний_топик_13  0.000451  0.369132  0.000011  0.000074  0.000020   \n",
       "внутренний_топик_14  0.004044  0.000897  0.002451  0.000411  0.015137   \n",
       "внутренний_топик_15  0.000273  0.000101  0.000530  0.000095  0.604618   \n",
       "внутренний_топик_16  0.000160  0.000052  0.969119  0.000343  0.000091   \n",
       "внутренний_топик_17  0.000068  0.000031  0.000986  0.000911  0.000087   \n",
       "внутренний_топик_18  0.000065  0.000013  0.000992  0.001096  0.000018   \n",
       "внутренний_топик_19  0.000295  0.000065  0.000825  0.001929  0.000193   \n",
       "\n",
       "                      topic_5   topic_6   topic_7   topic_8   topic_9  \n",
       "внутренний_топик_0   0.000070  0.000052  0.000263  0.000043  0.000024  \n",
       "внутренний_топик_1   0.000405  0.078190  0.000069  0.000580  0.280796  \n",
       "внутренний_топик_2   0.000084  0.000018  0.000285  0.000224  0.000077  \n",
       "внутренний_топик_3   0.000536  0.001490  0.000096  0.000640  0.002078  \n",
       "внутренний_топик_4   0.002032  0.000078  0.001097  0.001255  0.000449  \n",
       "внутренний_топик_5   0.001268  0.000208  0.270400  0.000140  0.001027  \n",
       "внутренний_топик_6   0.000126  0.000077  0.000230  0.000121  0.000061  \n",
       "внутренний_топик_7   0.000045  0.000025  0.000047  0.634975  0.000419  \n",
       "внутренний_топик_8   0.000141  0.000008  0.407173  0.000014  0.000007  \n",
       "внутренний_топик_9   0.008828  0.001659  0.001007  0.281097  0.015477  \n",
       "внутренний_топик_10  0.000017  0.000693  0.000036  0.000529  0.000736  \n",
       "внутренний_топик_11  0.956324  0.000352  0.000238  0.002566  0.001595  \n",
       "внутренний_топик_12  0.000268  0.000142  0.315031  0.000138  0.000396  \n",
       "внутренний_топик_13  0.000004  0.000006  0.000059  0.000034  0.000007  \n",
       "внутренний_топик_14  0.027604  0.000769  0.001100  0.075991  0.001539  \n",
       "внутренний_топик_15  0.001435  0.000121  0.002432  0.000649  0.000493  \n",
       "внутренний_топик_16  0.000355  0.001414  0.000073  0.000050  0.000664  \n",
       "внутренний_топик_17  0.000144  0.000665  0.000168  0.000692  0.692524  \n",
       "внутренний_топик_18  0.000015  0.428150  0.000027  0.000019  0.000671  \n",
       "внутренний_топик_19  0.000300  0.485883  0.000168  0.000242  0.000957  "
      ]
     },
     "execution_count": 319,
     "metadata": {},
     "output_type": "execute_result"
    }
   ],
   "source": [
    "psi"
   ]
  },
  {
   "cell_type": "code",
   "execution_count": 320,
   "metadata": {},
   "outputs": [
    {
     "name": "stdout",
     "output_type": "stream",
     "text": [
      "внутренний_топик_0: \n",
      "model pattern cortical field cortex cell activity visual show phase temporal neuron mechanism receptive property oscillation map orientation input couple\n",
      "внутренний_топик_1: \n",
      "corpus language use word method text task sentence approach data different document result information system phrase propose english tag two\n",
      "внутренний_топик_2: \n",
      "spike neuron synaptic model time input rate correlation train fire process information noise plasticity synapsis neural simulation dynamic stochastic interval\n",
      "внутренний_топик_3: \n",
      "model human decision expression prediction metric task predict information generation make cue duration group study description factor performance show use\n",
      "внутренний_топик_4: \n",
      "function distribution approximation show parameter probability estimate estimator use number density n result information derive measure sample error method case\n",
      "внутренний_топик_5: \n",
      "learn input rule weight unit output pattern training use layer hidden algorithm local show sequence representation simple space backpropagation present\n",
      "внутренний_топик_6: \n",
      "model system control visual use image brain dynamic motion task movement signal motor object result study different change data environment\n",
      "внутренний_топик_7: \n",
      "speech recognition speaker adaptation use noise signal model acoustic paper propose system algorithm spectral source technique base result show frequency\n",
      "внутренний_топик_8: \n",
      "network neural recurrent dynamic problem use feedforward architecture nonlinear result layer connection system function show activation solve propose artificial computational\n",
      "внутренний_топик_9: \n",
      "feature performance training classification use propose vector classifier recognition data result set method approach accuracy error technique base task show\n",
      "внутренний_топик_10: \n",
      "system speech dialogue use user paper spoken human utterance feature synthesis interaction present dialog emotion show information design conversation evaluation\n",
      "внутренний_топик_11: \n",
      "model data method use propose cluster approach learn estimate parameter set algorithm bayesian estimation framework show markov statistical train probability\n",
      "внутренний_топик_12: \n",
      "memory state time network number computation attractor store pattern capacity show compute architecture net size large result analog binary system\n",
      "внутренний_топик_13: \n",
      "neuron stimulus response population cell fire activity input model neuronal rate network show information mechanism spike increase encode cod neural\n",
      "внутренний_топик_14: \n",
      "method analysis data component propose use algorithm source time independent signal approach two representation linear new base estimate sparse problem\n",
      "внутренний_топик_15: \n",
      "algorithm learn problem function kernel show optimization error generalization optimal convergence result bound matrix linear set machine gradient example solution\n",
      "внутренний_топик_16: \n",
      "parse semantic structure representation tree relation grammar use information dependency parser feature approach question show object syntactic answer sentence graph\n",
      "внутренний_топик_17: \n",
      "word language model use system recognition error paper training speech result segmentation approach show method performance set pronunciation alignment accuracy\n",
      "внутренний_топик_18: \n",
      "language system text natural information processing use resource semantic paper verb knowledge the evaluation present annotation tool linguistic application development\n",
      "внутренний_топик_19: \n",
      "translation language machine research domain analysis work issue system paper sentiment source data article task review topic different provide statistical\n"
     ]
    }
   ],
   "source": [
    "for topic_name in level1.topic_names:\n",
    "    print(topic_name + ': ')\n",
    "    print(\" \".join(level1.score_tracker['TopTokensScore'].last_tokens[topic_name]))"
   ]
  },
  {
   "cell_type": "markdown",
   "metadata": {},
   "source": [
    "#### Попробуем регуляризацию"
   ]
  },
  {
   "cell_type": "code",
   "execution_count": 321,
   "metadata": {},
   "outputs": [],
   "source": [
    "level1.regularizers.add(artm.HierarchySparsingThetaRegularizer(name=\"HierSp\", tau=1.0))"
   ]
  },
  {
   "cell_type": "code",
   "execution_count": 322,
   "metadata": {},
   "outputs": [],
   "source": [
    "level1.initialize(dictionary=dictionary)\n",
    "level1.fit_offline(batch_vectorizer, num_collection_passes=30)"
   ]
  },
  {
   "cell_type": "code",
   "execution_count": 323,
   "metadata": {},
   "outputs": [
    {
     "name": "stdout",
     "output_type": "stream",
     "text": [
      "внутренний_топик_0: \n",
      "model pattern cortical field cortex cell activity visual show phase temporal neuron mechanism receptive property oscillation map orientation input couple\n",
      "внутренний_топик_1: \n",
      "corpus language use word method text task sentence approach data different document result information system phrase propose english two tag\n",
      "внутренний_топик_2: \n",
      "spike neuron synaptic model time input rate correlation train fire process information noise plasticity synapsis neural simulation dynamic stochastic interval\n",
      "внутренний_топик_3: \n",
      "model human decision expression prediction metric task predict information generation make cue duration group study description factor performance show use\n",
      "внутренний_топик_4: \n",
      "function distribution approximation show parameter probability estimate estimator use number density n result information derive measure sample error method case\n",
      "внутренний_топик_5: \n",
      "learn input rule weight unit output pattern training use layer hidden algorithm local show sequence representation simple space backpropagation present\n",
      "внутренний_топик_6: \n",
      "model system control visual use image brain dynamic motion task movement signal motor object result study different change data environment\n",
      "внутренний_топик_7: \n",
      "speech recognition speaker adaptation use noise signal model acoustic paper propose system algorithm spectral source technique base result show frequency\n",
      "внутренний_топик_8: \n",
      "network neural recurrent dynamic problem use feedforward architecture nonlinear result layer connection system function show activation solve propose artificial computational\n",
      "внутренний_топик_9: \n",
      "feature performance training classification use propose vector classifier recognition data result set method approach accuracy error technique base task show\n",
      "внутренний_топик_10: \n",
      "system speech dialogue use user paper spoken human utterance feature synthesis interaction present dialog emotion show design information conversation evaluation\n",
      "внутренний_топик_11: \n",
      "model data method use propose cluster approach learn estimate parameter set algorithm bayesian estimation framework show markov statistical train probability\n",
      "внутренний_топик_12: \n",
      "memory state time network number computation attractor store pattern capacity show compute architecture net size large result analog binary system\n",
      "внутренний_топик_13: \n",
      "neuron stimulus response population cell fire activity input model neuronal rate network show information mechanism spike increase encode cod neural\n",
      "внутренний_топик_14: \n",
      "method analysis data component propose use algorithm source time independent signal approach two representation linear new base estimate sparse problem\n",
      "внутренний_топик_15: \n",
      "algorithm learn problem function kernel show optimization error generalization optimal convergence result bound matrix linear set machine gradient example solution\n",
      "внутренний_топик_16: \n",
      "parse semantic structure representation tree relation grammar use information dependency parser feature approach question show object syntactic answer sentence graph\n",
      "внутренний_топик_17: \n",
      "word language model use system recognition error paper training speech result segmentation approach show method performance set pronunciation alignment accuracy\n",
      "внутренний_топик_18: \n",
      "language system text natural information processing use resource semantic paper verb knowledge the evaluation present annotation tool linguistic application development\n",
      "внутренний_топик_19: \n",
      "translation language machine research domain analysis work issue system paper sentiment source data article task review topic different provide statistical\n"
     ]
    }
   ],
   "source": [
    "for topic_name in level1.topic_names:\n",
    "    print(topic_name + ': ')\n",
    "    print(\" \".join(level1.score_tracker['TopTokensScore'].last_tokens[topic_name]))"
   ]
  },
  {
   "cell_type": "markdown",
   "metadata": {},
   "source": [
    "#### Посчитаем две метрики в иерархии"
   ]
  },
  {
   "cell_type": "markdown",
   "metadata": {},
   "source": [
    "#### support - Обычно необходимо установить пороговое значение psi, равное минимальному значению p (t | a) , чтобы ссылка a-t была включена в тематический граф. Но с высоким порогом у некоторых тем не будет родителей. Определяют support как максимальный доступный порог для матрицы Psi, с которой все темы будут иметь хотя бы одного предка."
   ]
  },
  {
   "cell_type": "code",
   "execution_count": 324,
   "metadata": {},
   "outputs": [
    {
     "name": "stdout",
     "output_type": "stream",
     "text": [
      "Psi support: 0.07614362\n"
     ]
    }
   ],
   "source": [
    "psi = level1.get_psi()\n",
    "print (\"Psi support:\", psi.values.max(axis=1).min())"
   ]
  },
  {
   "cell_type": "markdown",
   "metadata": {},
   "source": [
    "#### Среднее количество родителей(mean parents count). В BigARTM иерархия определяется как многоуровневый тематический граф, который отличается от тематического дерева. Поэтому разумно оценить среднее количество родителей."
   ]
  },
  {
   "cell_type": "code",
   "execution_count": 327,
   "metadata": {},
   "outputs": [
    {
     "name": "stdout",
     "output_type": "stream",
     "text": [
      "Mean parents count: 1.25\n"
     ]
    }
   ],
   "source": [
    "psi_threshold = 0.01\n",
    "parent_counts = np.zeros(0)\n",
    "for level_idx in range(1, hier.num_levels):\n",
    "    psi = hier.get_level(level_idx).get_psi().values\n",
    "    parent_counts = np.hstack((parent_counts, (psi > psi_threshold).sum(axis=1)))\n",
    "print (\"Mean parents count:\", parent_counts.mean())"
   ]
  },
  {
   "cell_type": "markdown",
   "metadata": {},
   "source": [
    "### Построим наконец связи между уровнями "
   ]
  },
  {
   "cell_type": "code",
   "execution_count": 329,
   "metadata": {},
   "outputs": [],
   "source": [
    "batch = artm.messages.Batch()\n",
    "batch_name = 'phi1.batch'\n",
    "\n",
    "with open(batch_name, \"rb\") as f:\n",
    "    batch.ParseFromString(f.read())\n",
    "    \n",
    "Ntw = np.zeros(len(level0.topic_names))\n",
    "    \n",
    "for i,item in enumerate(batch.item):\n",
    "    for (token_id, token_weight) in zip(item.field[0].token_id, item.field[0].token_weight):\n",
    "        Ntw[i] += token_weight\n",
    "\n",
    "Nt1t0 = np.array(psi) * Ntw\n",
    "psi_bayes = (Nt1t0 / Nt1t0.sum(axis=1)[:, np.newaxis]).T"
   ]
  },
  {
   "cell_type": "code",
   "execution_count": 330,
   "metadata": {},
   "outputs": [],
   "source": [
    "indexes_child = np.argmax(psi_bayes, axis=0)"
   ]
  },
  {
   "cell_type": "markdown",
   "metadata": {},
   "source": [
    "#### Покажем к примеру для топика номер 6"
   ]
  },
  {
   "cell_type": "code",
   "execution_count": 77,
   "metadata": {},
   "outputs": [
    {
     "name": "stdout",
     "output_type": "stream",
     "text": [
      "topic_6:\n"
     ]
    },
    {
     "ename": "NameError",
     "evalue": "name 'level0' is not defined",
     "output_type": "error",
     "traceback": [
      "\u001b[0;31m---------------------------------------------------------------------------\u001b[0m",
      "\u001b[0;31mNameError\u001b[0m                                 Traceback (most recent call last)",
      "\u001b[0;32m<ipython-input-77-a8b857b596ea>\u001b[0m in \u001b[0;36m<module>\u001b[0;34m\u001b[0m\n\u001b[1;32m      1\u001b[0m \u001b[0mtopic_parent_name\u001b[0m \u001b[0;34m=\u001b[0m \u001b[0;34m'topic_6'\u001b[0m\u001b[0;34m\u001b[0m\u001b[0;34m\u001b[0m\u001b[0m\n\u001b[1;32m      2\u001b[0m \u001b[0mprint\u001b[0m\u001b[0;34m(\u001b[0m\u001b[0mtopic_parent_name\u001b[0m \u001b[0;34m+\u001b[0m \u001b[0;34m':'\u001b[0m\u001b[0;34m)\u001b[0m\u001b[0;34m\u001b[0m\u001b[0;34m\u001b[0m\u001b[0m\n\u001b[0;32m----> 3\u001b[0;31m \u001b[0mprint\u001b[0m\u001b[0;34m(\u001b[0m\u001b[0;34m\" \"\u001b[0m\u001b[0;34m.\u001b[0m\u001b[0mjoin\u001b[0m\u001b[0;34m(\u001b[0m\u001b[0mlevel0\u001b[0m\u001b[0;34m.\u001b[0m\u001b[0mscore_tracker\u001b[0m\u001b[0;34m[\u001b[0m\u001b[0;34m'TopTokensScore'\u001b[0m\u001b[0;34m]\u001b[0m\u001b[0;34m.\u001b[0m\u001b[0mlast_tokens\u001b[0m\u001b[0;34m[\u001b[0m\u001b[0mtopic_parent_name\u001b[0m\u001b[0;34m]\u001b[0m\u001b[0;34m)\u001b[0m\u001b[0;34m)\u001b[0m\u001b[0;34m\u001b[0m\u001b[0;34m\u001b[0m\u001b[0m\n\u001b[0m\u001b[1;32m      4\u001b[0m \u001b[0mprint\u001b[0m\u001b[0;34m(\u001b[0m\u001b[0;34m''\u001b[0m\u001b[0;34m)\u001b[0m\u001b[0;34m\u001b[0m\u001b[0;34m\u001b[0m\u001b[0m\n\u001b[1;32m      5\u001b[0m \u001b[0;34m\u001b[0m\u001b[0m\n",
      "\u001b[0;31mNameError\u001b[0m: name 'level0' is not defined"
     ]
    }
   ],
   "source": [
    "topic_parent_name = 'topic_6'\n",
    "print(topic_parent_name + ':')\n",
    "print(\" \".join(level0.score_tracker['TopTokensScore'].last_tokens[topic_parent_name]))\n",
    "print('')\n",
    "\n",
    "for child in np.where(indexes_child == 6)[0]:\n",
    "    print('    ' + level1.topic_names[child] + ': ')\n",
    "    print(\" \".join(level1.score_tracker['TopTokensScore'].last_tokens[level1.topic_names[child]]))\n",
    "    print('')"
   ]
  },
  {
   "cell_type": "code",
   "execution_count": null,
   "metadata": {},
   "outputs": [],
   "source": []
  }
 ],
 "metadata": {
  "kernelspec": {
   "display_name": "Python 3",
   "language": "python",
   "name": "python3"
  },
  "language_info": {
   "codemirror_mode": {
    "name": "ipython",
    "version": 3
   },
   "file_extension": ".py",
   "mimetype": "text/x-python",
   "name": "python",
   "nbconvert_exporter": "python",
   "pygments_lexer": "ipython3",
   "version": "3.6.8"
  }
 },
 "nbformat": 4,
 "nbformat_minor": 1
}
